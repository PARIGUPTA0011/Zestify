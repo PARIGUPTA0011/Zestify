{
 "cells": [
  {
   "cell_type": "code",
   "execution_count": 9,
   "metadata": {},
   "outputs": [
    {
     "name": "stdout",
     "output_type": "stream",
     "text": [
      "New https://pypi.org/project/ultralytics/8.2.86 available  Update with 'pip install -U ultralytics'\n",
      "Ultralytics YOLOv8.2.68  Python-3.12.1 torch-2.4.0+cpu CPU (13th Gen Intel Core(TM) i5-1345U)\n",
      "\u001b[34m\u001b[1mengine\\trainer: \u001b[0mtask=detect, mode=train, model=yolov8n.pt, data=C:/Users/devdr/OneDrive/Desktop/YOLOV8/dataset.yaml, epochs=10, time=None, patience=100, batch=16, imgsz=640, save=True, save_period=-1, cache=True, device=None, workers=8, project=runs/train, name=exp4, exist_ok=False, pretrained=True, optimizer=auto, verbose=True, seed=0, deterministic=True, single_cls=False, rect=False, cos_lr=False, close_mosaic=10, resume=False, amp=True, fraction=1.0, profile=False, freeze=None, multi_scale=False, overlap_mask=True, mask_ratio=4, dropout=0.0, val=True, split=val, save_json=False, save_hybrid=False, conf=None, iou=0.7, max_det=300, half=False, dnn=False, plots=True, source=None, vid_stride=1, stream_buffer=False, visualize=False, augment=False, agnostic_nms=False, classes=None, retina_masks=False, embed=None, show=False, save_frames=False, save_txt=False, save_conf=False, save_crop=False, show_labels=True, show_conf=True, show_boxes=True, line_width=None, format=torchscript, keras=False, optimize=False, int8=False, dynamic=False, simplify=False, opset=None, workspace=4, nms=False, lr0=0.01, lrf=0.01, momentum=0.937, weight_decay=0.0005, warmup_epochs=3.0, warmup_momentum=0.8, warmup_bias_lr=0.1, box=7.5, cls=0.5, dfl=1.5, pose=12.0, kobj=1.0, label_smoothing=0.0, nbs=64, hsv_h=0.015, hsv_s=0.7, hsv_v=0.4, degrees=0.0, translate=0.1, scale=0.5, shear=0.0, perspective=0.0, flipud=0.0, fliplr=0.5, bgr=0.0, mosaic=1.0, mixup=0.0, copy_paste=0.0, auto_augment=randaugment, erasing=0.4, crop_fraction=1.0, cfg=None, tracker=botsort.yaml, save_dir=runs\\train\\exp4\n",
      "Overriding model.yaml nc=80 with nc=1\n",
      "\n",
      "                   from  n    params  module                                       arguments                     \n",
      "  0                  -1  1       464  ultralytics.nn.modules.conv.Conv             [3, 16, 3, 2]                 \n",
      "  1                  -1  1      4672  ultralytics.nn.modules.conv.Conv             [16, 32, 3, 2]                \n",
      "  2                  -1  1      7360  ultralytics.nn.modules.block.C2f             [32, 32, 1, True]             \n",
      "  3                  -1  1     18560  ultralytics.nn.modules.conv.Conv             [32, 64, 3, 2]                \n",
      "  4                  -1  2     49664  ultralytics.nn.modules.block.C2f             [64, 64, 2, True]             \n",
      "  5                  -1  1     73984  ultralytics.nn.modules.conv.Conv             [64, 128, 3, 2]               \n",
      "  6                  -1  2    197632  ultralytics.nn.modules.block.C2f             [128, 128, 2, True]           \n",
      "  7                  -1  1    295424  ultralytics.nn.modules.conv.Conv             [128, 256, 3, 2]              \n",
      "  8                  -1  1    460288  ultralytics.nn.modules.block.C2f             [256, 256, 1, True]           \n",
      "  9                  -1  1    164608  ultralytics.nn.modules.block.SPPF            [256, 256, 5]                 \n",
      " 10                  -1  1         0  torch.nn.modules.upsampling.Upsample         [None, 2, 'nearest']          \n",
      " 11             [-1, 6]  1         0  ultralytics.nn.modules.conv.Concat           [1]                           \n",
      " 12                  -1  1    148224  ultralytics.nn.modules.block.C2f             [384, 128, 1]                 \n",
      " 13                  -1  1         0  torch.nn.modules.upsampling.Upsample         [None, 2, 'nearest']          \n",
      " 14             [-1, 4]  1         0  ultralytics.nn.modules.conv.Concat           [1]                           \n",
      " 15                  -1  1     37248  ultralytics.nn.modules.block.C2f             [192, 64, 1]                  \n",
      " 16                  -1  1     36992  ultralytics.nn.modules.conv.Conv             [64, 64, 3, 2]                \n",
      " 17            [-1, 12]  1         0  ultralytics.nn.modules.conv.Concat           [1]                           \n",
      " 18                  -1  1    123648  ultralytics.nn.modules.block.C2f             [192, 128, 1]                 \n",
      " 19                  -1  1    147712  ultralytics.nn.modules.conv.Conv             [128, 128, 3, 2]              \n",
      " 20             [-1, 9]  1         0  ultralytics.nn.modules.conv.Concat           [1]                           \n",
      " 21                  -1  1    493056  ultralytics.nn.modules.block.C2f             [384, 256, 1]                 \n",
      " 22        [15, 18, 21]  1    751507  ultralytics.nn.modules.head.Detect           [1, [64, 128, 256]]           \n",
      "Model summary: 225 layers, 3,011,043 parameters, 3,011,027 gradients, 8.2 GFLOPs\n",
      "\n",
      "Transferred 319/355 items from pretrained weights\n",
      "\u001b[34m\u001b[1mTensorBoard: \u001b[0mStart with 'tensorboard --logdir runs\\train\\exp4', view at http://localhost:6006/\n",
      "Freezing layer 'model.22.dfl.conv.weight'\n"
     ]
    },
    {
     "name": "stderr",
     "output_type": "stream",
     "text": [
      "C:\\Users\\devdr\\AppData\\Roaming\\Python\\Python312\\site-packages\\ultralytics\\engine\\trainer.py:268: FutureWarning: `torch.cuda.amp.GradScaler(args...)` is deprecated. Please use `torch.amp.GradScaler('cuda', args...)` instead.\n",
      "  self.scaler = torch.cuda.amp.GradScaler(enabled=self.amp)\n",
      "\u001b[34m\u001b[1mtrain: \u001b[0mScanning C:\\Users\\devdr\\OneDrive\\Desktop\\Yolov8\\dataset\\train\\labels.cache... 22 images, 0 backgrounds, 0 corrupt: 100%|██████████| 22/22 [00:00<?, ?it/s]\n",
      "\u001b[34m\u001b[1mtrain: \u001b[0mCaching images (0.0GB RAM): 100%|██████████| 22/22 [00:00<00:00, 922.64it/s]\n",
      "\u001b[34m\u001b[1mval: \u001b[0mScanning C:\\Users\\devdr\\OneDrive\\Desktop\\Yolov8\\dataset\\valid\\labels.cache... 6 images, 0 backgrounds, 0 corrupt: 100%|██████████| 6/6 [00:00<?, ?it/s]\n",
      "\u001b[34m\u001b[1mval: \u001b[0mCaching images (0.0GB RAM): 100%|██████████| 6/6 [00:00<00:00, 857.20it/s]\n"
     ]
    },
    {
     "name": "stdout",
     "output_type": "stream",
     "text": [
      "Plotting labels to runs\\train\\exp4\\labels.jpg... \n",
      "\u001b[34m\u001b[1moptimizer:\u001b[0m 'optimizer=auto' found, ignoring 'lr0=0.01' and 'momentum=0.937' and determining best 'optimizer', 'lr0' and 'momentum' automatically... \n",
      "\u001b[34m\u001b[1moptimizer:\u001b[0m AdamW(lr=0.002, momentum=0.9) with parameter groups 57 weight(decay=0.0), 64 weight(decay=0.0005), 63 bias(decay=0.0)\n",
      "\u001b[34m\u001b[1mTensorBoard: \u001b[0mmodel graph visualization added \n",
      "Image sizes 640 train, 640 val\n",
      "Using 0 dataloader workers\n",
      "Logging results to \u001b[1mruns\\train\\exp4\u001b[0m\n",
      "Starting training for 10 epochs...\n",
      "Closing dataloader mosaic\n",
      "\n",
      "      Epoch    GPU_mem   box_loss   cls_loss   dfl_loss  Instances       Size\n"
     ]
    },
    {
     "name": "stderr",
     "output_type": "stream",
     "text": [
      "       1/10         0G       14.4  5.759e+15      5.594         21        640:  50%|█████     | 1/2 [00:45<00:45, 45.83s/it]"
     ]
    }
   ],
   "source": [
    "from ultralytics import YOLO\n",
    "\n",
    "# Load a pre-trained YOLO model\n",
    "model = YOLO(\"yolov8n.pt\")\n",
    "\n",
    "# Training with ultralytics API\n",
    "model.train(\n",
    "    data='C:/Users/devdr/OneDrive/Desktop/YOLOV8/dataset.yaml',  # Absolute path to the dataset YAML file\n",
    "    epochs=10,            # Number of epochs\n",
    "    batch=16,             # Batch size\n",
    "    imgsz=640,            # Image size (adjust as needed)\n",
    "    cache=True,           # Cache images for faster training\n",
    "    project='runs/train', # Directory to save results\n",
    "    name='exp',           # Experiment name\n",
    "    lr0=0.01              # Initial learning rate (example value, adjust as needed)\n",
    ")\n"
   ]
  },
  {
   "cell_type": "code",
   "execution_count": 8,
   "metadata": {},
   "outputs": [
    {
     "name": "stdout",
     "output_type": "stream",
     "text": [
      "Ultralytics YOLOv8.2.86  Python-3.12.1 torch-2.3.1+cpu CPU (13th Gen Intel Core(TM) i5-1345U)\n",
      "\u001b[34m\u001b[1mengine\\trainer: \u001b[0mtask=detect, mode=train, model=yolov8n.pt, data=dataset.yaml, epochs=72, time=None, patience=100, batch=8, imgsz=640, save=True, save_period=-1, cache=False, device=cpu, workers=8, project=None, name=train6, exist_ok=False, pretrained=True, optimizer=auto, verbose=True, seed=0, deterministic=True, single_cls=False, rect=False, cos_lr=False, close_mosaic=10, resume=False, amp=True, fraction=1.0, profile=False, freeze=None, multi_scale=False, overlap_mask=True, mask_ratio=4, dropout=0.0, val=True, split=val, save_json=False, save_hybrid=False, conf=None, iou=0.7, max_det=300, half=False, dnn=False, plots=True, source=None, vid_stride=1, stream_buffer=False, visualize=False, augment=False, agnostic_nms=False, classes=None, retina_masks=False, embed=None, show=False, save_frames=False, save_txt=False, save_conf=False, save_crop=False, show_labels=True, show_conf=True, show_boxes=True, line_width=None, format=torchscript, keras=False, optimize=False, int8=False, dynamic=False, simplify=False, opset=None, workspace=4, nms=False, lr0=0.01, lrf=0.01, momentum=0.937, weight_decay=0.0005, warmup_epochs=3.0, warmup_momentum=0.8, warmup_bias_lr=0.1, box=7.5, cls=0.5, dfl=1.5, pose=12.0, kobj=1.0, label_smoothing=0.0, nbs=64, hsv_h=0.015, hsv_s=0.7, hsv_v=0.4, degrees=0.0, translate=0.1, scale=0.5, shear=0.0, perspective=0.0, flipud=0.0, fliplr=0.5, bgr=0.0, mosaic=1.0, mixup=0.0, copy_paste=0.0, auto_augment=randaugment, erasing=0.4, crop_fraction=1.0, cfg=None, tracker=botsort.yaml, save_dir=runs\\detect\\train6\n",
      "Overriding model.yaml nc=80 with nc=1\n",
      "\n",
      "                   from  n    params  module                                       arguments                     \n",
      "  0                  -1  1       464  ultralytics.nn.modules.conv.Conv             [3, 16, 3, 2]                 \n",
      "  1                  -1  1      4672  ultralytics.nn.modules.conv.Conv             [16, 32, 3, 2]                \n",
      "  2                  -1  1      7360  ultralytics.nn.modules.block.C2f             [32, 32, 1, True]             \n",
      "  3                  -1  1     18560  ultralytics.nn.modules.conv.Conv             [32, 64, 3, 2]                \n",
      "  4                  -1  2     49664  ultralytics.nn.modules.block.C2f             [64, 64, 2, True]             \n",
      "  5                  -1  1     73984  ultralytics.nn.modules.conv.Conv             [64, 128, 3, 2]               \n",
      "  6                  -1  2    197632  ultralytics.nn.modules.block.C2f             [128, 128, 2, True]           \n",
      "  7                  -1  1    295424  ultralytics.nn.modules.conv.Conv             [128, 256, 3, 2]              \n",
      "  8                  -1  1    460288  ultralytics.nn.modules.block.C2f             [256, 256, 1, True]           \n",
      "  9                  -1  1    164608  ultralytics.nn.modules.block.SPPF            [256, 256, 5]                 \n",
      " 10                  -1  1         0  torch.nn.modules.upsampling.Upsample         [None, 2, 'nearest']          \n",
      " 11             [-1, 6]  1         0  ultralytics.nn.modules.conv.Concat           [1]                           \n",
      " 12                  -1  1    148224  ultralytics.nn.modules.block.C2f             [384, 128, 1]                 \n",
      " 13                  -1  1         0  torch.nn.modules.upsampling.Upsample         [None, 2, 'nearest']          \n",
      " 14             [-1, 4]  1         0  ultralytics.nn.modules.conv.Concat           [1]                           \n",
      " 15                  -1  1     37248  ultralytics.nn.modules.block.C2f             [192, 64, 1]                  \n",
      " 16                  -1  1     36992  ultralytics.nn.modules.conv.Conv             [64, 64, 3, 2]                \n",
      " 17            [-1, 12]  1         0  ultralytics.nn.modules.conv.Concat           [1]                           \n",
      " 18                  -1  1    123648  ultralytics.nn.modules.block.C2f             [192, 128, 1]                 \n",
      " 19                  -1  1    147712  ultralytics.nn.modules.conv.Conv             [128, 128, 3, 2]              \n",
      " 20             [-1, 9]  1         0  ultralytics.nn.modules.conv.Concat           [1]                           \n",
      " 21                  -1  1    493056  ultralytics.nn.modules.block.C2f             [384, 256, 1]                 \n",
      " 22        [15, 18, 21]  1    751507  ultralytics.nn.modules.head.Detect           [1, [64, 128, 256]]           \n",
      "Model summary: 225 layers, 3,011,043 parameters, 3,011,027 gradients, 8.2 GFLOPs\n",
      "\n",
      "Transferred 319/355 items from pretrained weights\n",
      "\u001b[34m\u001b[1mTensorBoard: \u001b[0mStart with 'tensorboard --logdir runs\\detect\\train6', view at http://localhost:6006/\n",
      "Freezing layer 'model.22.dfl.conv.weight'\n"
     ]
    },
    {
     "name": "stderr",
     "output_type": "stream",
     "text": [
      "\u001b[34m\u001b[1mtrain: \u001b[0mScanning C:\\Users\\devdr\\OneDrive\\Desktop\\Yolov8\\dataset\\train\\labels.cache... 22 images, 0 backgrounds, 0 corrupt: 100%|██████████| 22/22 [00:00<?, ?it/s]\n",
      "\u001b[34m\u001b[1mval: \u001b[0mScanning C:\\Users\\devdr\\OneDrive\\Desktop\\Yolov8\\dataset\\valid\\labels.cache... 6 images, 0 backgrounds, 0 corrupt: 100%|██████████| 6/6 [00:00<?, ?it/s]"
     ]
    },
    {
     "name": "stdout",
     "output_type": "stream",
     "text": [
      "Plotting labels to runs\\detect\\train6\\labels.jpg... \n"
     ]
    },
    {
     "name": "stderr",
     "output_type": "stream",
     "text": [
      "\n"
     ]
    },
    {
     "name": "stdout",
     "output_type": "stream",
     "text": [
      "\u001b[34m\u001b[1moptimizer:\u001b[0m 'optimizer=auto' found, ignoring 'lr0=0.01' and 'momentum=0.937' and determining best 'optimizer', 'lr0' and 'momentum' automatically... \n",
      "\u001b[34m\u001b[1moptimizer:\u001b[0m AdamW(lr=0.002, momentum=0.9) with parameter groups 57 weight(decay=0.0), 64 weight(decay=0.0005), 63 bias(decay=0.0)\n",
      "\u001b[34m\u001b[1mTensorBoard: \u001b[0mmodel graph visualization added \n",
      "Image sizes 640 train, 640 val\n",
      "Using 0 dataloader workers\n",
      "Logging results to \u001b[1mruns\\detect\\train6\u001b[0m\n",
      "Starting training for 72 epochs...\n",
      "\n",
      "      Epoch    GPU_mem   box_loss   cls_loss   dfl_loss  Instances       Size\n"
     ]
    },
    {
     "name": "stderr",
     "output_type": "stream",
     "text": [
      "       1/72         0G      1.514      2.677      1.769         24        640: 100%|██████████| 3/3 [00:10<00:00,  3.52s/it]\n",
      "                 Class     Images  Instances      Box(P          R      mAP50  mAP50-95): 100%|██████████| 1/1 [00:01<00:00,  1.32s/it]"
     ]
    },
    {
     "name": "stdout",
     "output_type": "stream",
     "text": [
      "                   all          6          7    0.00389          1      0.129     0.0344\n"
     ]
    },
    {
     "name": "stderr",
     "output_type": "stream",
     "text": [
      "\n"
     ]
    },
    {
     "name": "stdout",
     "output_type": "stream",
     "text": [
      "\n",
      "      Epoch    GPU_mem   box_loss   cls_loss   dfl_loss  Instances       Size\n"
     ]
    },
    {
     "name": "stderr",
     "output_type": "stream",
     "text": [
      "       2/72         0G      1.325      2.588      1.631         20        640: 100%|██████████| 3/3 [00:10<00:00,  3.62s/it]\n",
      "                 Class     Images  Instances      Box(P          R      mAP50  mAP50-95): 100%|██████████| 1/1 [00:01<00:00,  1.27s/it]"
     ]
    },
    {
     "name": "stdout",
     "output_type": "stream",
     "text": [
      "                   all          6          7    0.00389          1      0.211     0.0817\n"
     ]
    },
    {
     "name": "stderr",
     "output_type": "stream",
     "text": [
      "\n"
     ]
    },
    {
     "name": "stdout",
     "output_type": "stream",
     "text": [
      "\n",
      "      Epoch    GPU_mem   box_loss   cls_loss   dfl_loss  Instances       Size\n"
     ]
    },
    {
     "name": "stderr",
     "output_type": "stream",
     "text": [
      "       3/72         0G      1.186      2.534      1.551         14        640: 100%|██████████| 3/3 [00:40<00:00, 13.48s/it]\n",
      "                 Class     Images  Instances      Box(P          R      mAP50  mAP50-95): 100%|██████████| 1/1 [00:06<00:00,  6.96s/it]"
     ]
    },
    {
     "name": "stdout",
     "output_type": "stream",
     "text": [
      "                   all          6          7    0.00389          1      0.336      0.135\n"
     ]
    },
    {
     "name": "stderr",
     "output_type": "stream",
     "text": [
      "\n"
     ]
    },
    {
     "name": "stdout",
     "output_type": "stream",
     "text": [
      "\n",
      "      Epoch    GPU_mem   box_loss   cls_loss   dfl_loss  Instances       Size\n"
     ]
    },
    {
     "name": "stderr",
     "output_type": "stream",
     "text": [
      "       4/72         0G      1.013      2.357      1.468         15        640: 100%|██████████| 3/3 [00:58<00:00, 19.37s/it]\n",
      "                 Class     Images  Instances      Box(P          R      mAP50  mAP50-95): 100%|██████████| 1/1 [00:00<00:00,  1.23it/s]"
     ]
    },
    {
     "name": "stdout",
     "output_type": "stream",
     "text": [
      "                   all          6          7    0.00389          1      0.432      0.224\n"
     ]
    },
    {
     "name": "stderr",
     "output_type": "stream",
     "text": [
      "\n"
     ]
    },
    {
     "name": "stdout",
     "output_type": "stream",
     "text": [
      "\n",
      "      Epoch    GPU_mem   box_loss   cls_loss   dfl_loss  Instances       Size\n"
     ]
    },
    {
     "name": "stderr",
     "output_type": "stream",
     "text": [
      "       5/72         0G     0.9881      2.071      1.402         19        640: 100%|██████████| 3/3 [00:59<00:00, 19.92s/it]\n",
      "                 Class     Images  Instances      Box(P          R      mAP50  mAP50-95): 100%|██████████| 1/1 [00:00<00:00,  1.41it/s]"
     ]
    },
    {
     "name": "stdout",
     "output_type": "stream",
     "text": [
      "                   all          6          7    0.00389          1      0.477      0.299\n"
     ]
    },
    {
     "name": "stderr",
     "output_type": "stream",
     "text": [
      "\n"
     ]
    },
    {
     "name": "stdout",
     "output_type": "stream",
     "text": [
      "\n",
      "      Epoch    GPU_mem   box_loss   cls_loss   dfl_loss  Instances       Size\n"
     ]
    },
    {
     "name": "stderr",
     "output_type": "stream",
     "text": [
      "       6/72         0G     0.9788      1.811      1.437         18        640: 100%|██████████| 3/3 [00:06<00:00,  2.25s/it]\n",
      "                 Class     Images  Instances      Box(P          R      mAP50  mAP50-95): 100%|██████████| 1/1 [00:01<00:00,  1.13s/it]"
     ]
    },
    {
     "name": "stdout",
     "output_type": "stream",
     "text": [
      "                   all          6          7    0.00389          1      0.692      0.296\n"
     ]
    },
    {
     "name": "stderr",
     "output_type": "stream",
     "text": [
      "\n"
     ]
    },
    {
     "name": "stdout",
     "output_type": "stream",
     "text": [
      "\n",
      "      Epoch    GPU_mem   box_loss   cls_loss   dfl_loss  Instances       Size\n"
     ]
    },
    {
     "name": "stderr",
     "output_type": "stream",
     "text": [
      "       7/72         0G     0.8777      1.608       1.31         17        640: 100%|██████████| 3/3 [00:22<00:00,  7.54s/it]\n",
      "                 Class     Images  Instances      Box(P          R      mAP50  mAP50-95): 100%|██████████| 1/1 [00:01<00:00,  1.32s/it]"
     ]
    },
    {
     "name": "stdout",
     "output_type": "stream",
     "text": [
      "                   all          6          7    0.00389          1      0.743      0.338\n"
     ]
    },
    {
     "name": "stderr",
     "output_type": "stream",
     "text": [
      "\n"
     ]
    },
    {
     "name": "stdout",
     "output_type": "stream",
     "text": [
      "\n",
      "      Epoch    GPU_mem   box_loss   cls_loss   dfl_loss  Instances       Size\n"
     ]
    },
    {
     "name": "stderr",
     "output_type": "stream",
     "text": [
      "       8/72         0G      0.938      1.581      1.343         14        640: 100%|██████████| 3/3 [00:19<00:00,  6.56s/it]\n",
      "                 Class     Images  Instances      Box(P          R      mAP50  mAP50-95): 100%|██████████| 1/1 [00:09<00:00,  9.58s/it]"
     ]
    },
    {
     "name": "stdout",
     "output_type": "stream",
     "text": [
      "                   all          6          7    0.00389          1       0.71      0.358\n"
     ]
    },
    {
     "name": "stderr",
     "output_type": "stream",
     "text": [
      "\n"
     ]
    },
    {
     "name": "stdout",
     "output_type": "stream",
     "text": [
      "\n",
      "      Epoch    GPU_mem   box_loss   cls_loss   dfl_loss  Instances       Size\n"
     ]
    },
    {
     "name": "stderr",
     "output_type": "stream",
     "text": [
      "       9/72         0G      1.026      1.715      1.478         20        640: 100%|██████████| 3/3 [01:08<00:00, 22.73s/it]\n",
      "                 Class     Images  Instances      Box(P          R      mAP50  mAP50-95): 100%|██████████| 1/1 [00:00<00:00,  1.38it/s]"
     ]
    },
    {
     "name": "stdout",
     "output_type": "stream",
     "text": [
      "                   all          6          7      0.228          1      0.755      0.357\n"
     ]
    },
    {
     "name": "stderr",
     "output_type": "stream",
     "text": [
      "\n"
     ]
    },
    {
     "name": "stdout",
     "output_type": "stream",
     "text": [
      "\n",
      "      Epoch    GPU_mem   box_loss   cls_loss   dfl_loss  Instances       Size\n"
     ]
    },
    {
     "name": "stderr",
     "output_type": "stream",
     "text": [
      "      10/72         0G      1.009      1.644      1.431         13        640: 100%|██████████| 3/3 [00:06<00:00,  2.21s/it]\n",
      "                 Class     Images  Instances      Box(P          R      mAP50  mAP50-95): 100%|██████████| 1/1 [00:01<00:00,  1.18s/it]"
     ]
    },
    {
     "name": "stdout",
     "output_type": "stream",
     "text": [
      "                   all          6          7      0.572      0.857      0.671      0.342\n"
     ]
    },
    {
     "name": "stderr",
     "output_type": "stream",
     "text": [
      "\n"
     ]
    },
    {
     "name": "stdout",
     "output_type": "stream",
     "text": [
      "\n",
      "      Epoch    GPU_mem   box_loss   cls_loss   dfl_loss  Instances       Size\n"
     ]
    },
    {
     "name": "stderr",
     "output_type": "stream",
     "text": [
      "      11/72         0G     0.8885       1.44       1.26         28        640: 100%|██████████| 3/3 [00:20<00:00,  6.95s/it]\n",
      "                 Class     Images  Instances      Box(P          R      mAP50  mAP50-95): 100%|██████████| 1/1 [00:00<00:00,  1.10it/s]"
     ]
    },
    {
     "name": "stdout",
     "output_type": "stream",
     "text": [
      "                   all          6          7      0.574      0.571      0.659      0.296\n"
     ]
    },
    {
     "name": "stderr",
     "output_type": "stream",
     "text": [
      "\n"
     ]
    },
    {
     "name": "stdout",
     "output_type": "stream",
     "text": [
      "\n",
      "      Epoch    GPU_mem   box_loss   cls_loss   dfl_loss  Instances       Size\n"
     ]
    },
    {
     "name": "stderr",
     "output_type": "stream",
     "text": [
      "      12/72         0G     0.9372      1.631      1.399         14        640: 100%|██████████| 3/3 [00:10<00:00,  3.40s/it]\n",
      "                 Class     Images  Instances      Box(P          R      mAP50  mAP50-95): 100%|██████████| 1/1 [00:01<00:00,  1.25s/it]"
     ]
    },
    {
     "name": "stdout",
     "output_type": "stream",
     "text": [
      "                   all          6          7      0.434      0.879      0.574      0.289\n"
     ]
    },
    {
     "name": "stderr",
     "output_type": "stream",
     "text": [
      "\n"
     ]
    },
    {
     "name": "stdout",
     "output_type": "stream",
     "text": [
      "\n",
      "      Epoch    GPU_mem   box_loss   cls_loss   dfl_loss  Instances       Size\n"
     ]
    },
    {
     "name": "stderr",
     "output_type": "stream",
     "text": [
      "      13/72         0G      0.831      1.269      1.269         24        640: 100%|██████████| 3/3 [00:09<00:00,  3.07s/it]\n",
      "                 Class     Images  Instances      Box(P          R      mAP50  mAP50-95): 100%|██████████| 1/1 [00:01<00:00,  1.17s/it]"
     ]
    },
    {
     "name": "stdout",
     "output_type": "stream",
     "text": [
      "                   all          6          7      0.453      0.571      0.598      0.308\n"
     ]
    },
    {
     "name": "stderr",
     "output_type": "stream",
     "text": [
      "\n"
     ]
    },
    {
     "name": "stdout",
     "output_type": "stream",
     "text": [
      "\n",
      "      Epoch    GPU_mem   box_loss   cls_loss   dfl_loss  Instances       Size\n"
     ]
    },
    {
     "name": "stderr",
     "output_type": "stream",
     "text": [
      "      14/72         0G      0.928      1.365      1.362         19        640: 100%|██████████| 3/3 [00:09<00:00,  3.14s/it]\n",
      "                 Class     Images  Instances      Box(P          R      mAP50  mAP50-95): 100%|██████████| 1/1 [00:01<00:00,  1.18s/it]"
     ]
    },
    {
     "name": "stdout",
     "output_type": "stream",
     "text": [
      "                   all          6          7      0.498      0.571      0.575      0.295\n"
     ]
    },
    {
     "name": "stderr",
     "output_type": "stream",
     "text": [
      "\n"
     ]
    },
    {
     "name": "stdout",
     "output_type": "stream",
     "text": [
      "\n",
      "      Epoch    GPU_mem   box_loss   cls_loss   dfl_loss  Instances       Size\n"
     ]
    },
    {
     "name": "stderr",
     "output_type": "stream",
     "text": [
      "      15/72         0G     0.8796      1.415      1.295         17        640: 100%|██████████| 3/3 [00:09<00:00,  3.01s/it]\n",
      "                 Class     Images  Instances      Box(P          R      mAP50  mAP50-95): 100%|██████████| 1/1 [00:01<00:00,  1.17s/it]"
     ]
    },
    {
     "name": "stdout",
     "output_type": "stream",
     "text": [
      "                   all          6          7      0.498      0.571      0.575      0.295\n"
     ]
    },
    {
     "name": "stderr",
     "output_type": "stream",
     "text": [
      "\n"
     ]
    },
    {
     "name": "stdout",
     "output_type": "stream",
     "text": [
      "\n",
      "      Epoch    GPU_mem   box_loss   cls_loss   dfl_loss  Instances       Size\n"
     ]
    },
    {
     "name": "stderr",
     "output_type": "stream",
     "text": [
      "      16/72         0G     0.8608       1.32      1.261         24        640: 100%|██████████| 3/3 [00:09<00:00,  3.05s/it]\n",
      "                 Class     Images  Instances      Box(P          R      mAP50  mAP50-95): 100%|██████████| 1/1 [00:01<00:00,  1.18s/it]"
     ]
    },
    {
     "name": "stdout",
     "output_type": "stream",
     "text": [
      "                   all          6          7      0.349      0.857      0.497      0.295\n"
     ]
    },
    {
     "name": "stderr",
     "output_type": "stream",
     "text": [
      "\n"
     ]
    },
    {
     "name": "stdout",
     "output_type": "stream",
     "text": [
      "\n",
      "      Epoch    GPU_mem   box_loss   cls_loss   dfl_loss  Instances       Size\n"
     ]
    },
    {
     "name": "stderr",
     "output_type": "stream",
     "text": [
      "      17/72         0G     0.8867      1.363      1.319         17        640: 100%|██████████| 3/3 [00:09<00:00,  3.08s/it]\n",
      "                 Class     Images  Instances      Box(P          R      mAP50  mAP50-95): 100%|██████████| 1/1 [00:01<00:00,  1.24s/it]"
     ]
    },
    {
     "name": "stdout",
     "output_type": "stream",
     "text": [
      "                   all          6          7      0.374      0.857      0.529      0.294\n"
     ]
    },
    {
     "name": "stderr",
     "output_type": "stream",
     "text": [
      "\n"
     ]
    },
    {
     "name": "stdout",
     "output_type": "stream",
     "text": [
      "\n",
      "      Epoch    GPU_mem   box_loss   cls_loss   dfl_loss  Instances       Size\n"
     ]
    },
    {
     "name": "stderr",
     "output_type": "stream",
     "text": [
      "      18/72         0G     0.8249      1.303      1.265         18        640: 100%|██████████| 3/3 [00:09<00:00,  3.04s/it]\n",
      "                 Class     Images  Instances      Box(P          R      mAP50  mAP50-95): 100%|██████████| 1/1 [00:01<00:00,  1.22s/it]"
     ]
    },
    {
     "name": "stdout",
     "output_type": "stream",
     "text": [
      "                   all          6          7      0.374      0.857      0.529      0.294\n"
     ]
    },
    {
     "name": "stderr",
     "output_type": "stream",
     "text": [
      "\n"
     ]
    },
    {
     "name": "stdout",
     "output_type": "stream",
     "text": [
      "\n",
      "      Epoch    GPU_mem   box_loss   cls_loss   dfl_loss  Instances       Size\n"
     ]
    },
    {
     "name": "stderr",
     "output_type": "stream",
     "text": [
      "      19/72         0G     0.8107      1.287      1.247         16        640: 100%|██████████| 3/3 [00:09<00:00,  3.14s/it]\n",
      "                 Class     Images  Instances      Box(P          R      mAP50  mAP50-95): 100%|██████████| 1/1 [00:01<00:00,  1.23s/it]"
     ]
    },
    {
     "name": "stdout",
     "output_type": "stream",
     "text": [
      "                   all          6          7      0.426      0.857      0.507      0.269\n"
     ]
    },
    {
     "name": "stderr",
     "output_type": "stream",
     "text": [
      "\n"
     ]
    },
    {
     "name": "stdout",
     "output_type": "stream",
     "text": [
      "\n",
      "      Epoch    GPU_mem   box_loss   cls_loss   dfl_loss  Instances       Size\n"
     ]
    },
    {
     "name": "stderr",
     "output_type": "stream",
     "text": [
      "      20/72         0G     0.8089      1.301      1.257         17        640: 100%|██████████| 3/3 [01:02<00:00, 20.70s/it]\n",
      "                 Class     Images  Instances      Box(P          R      mAP50  mAP50-95): 100%|██████████| 1/1 [00:09<00:00,  9.64s/it]"
     ]
    },
    {
     "name": "stdout",
     "output_type": "stream",
     "text": [
      "                   all          6          7      0.595      0.635      0.608      0.345\n"
     ]
    },
    {
     "name": "stderr",
     "output_type": "stream",
     "text": [
      "\n"
     ]
    },
    {
     "name": "stdout",
     "output_type": "stream",
     "text": [
      "\n",
      "      Epoch    GPU_mem   box_loss   cls_loss   dfl_loss  Instances       Size\n"
     ]
    },
    {
     "name": "stderr",
     "output_type": "stream",
     "text": [
      "      21/72         0G     0.8724      1.135      1.249         21        640: 100%|██████████| 3/3 [01:22<00:00, 27.34s/it]\n",
      "                 Class     Images  Instances      Box(P          R      mAP50  mAP50-95): 100%|██████████| 1/1 [00:08<00:00,  8.04s/it]"
     ]
    },
    {
     "name": "stdout",
     "output_type": "stream",
     "text": [
      "                   all          6          7      0.595      0.635      0.608      0.345\n"
     ]
    },
    {
     "name": "stderr",
     "output_type": "stream",
     "text": [
      "\n"
     ]
    },
    {
     "name": "stdout",
     "output_type": "stream",
     "text": [
      "\n",
      "      Epoch    GPU_mem   box_loss   cls_loss   dfl_loss  Instances       Size\n"
     ]
    },
    {
     "name": "stderr",
     "output_type": "stream",
     "text": [
      "      22/72         0G     0.7765      1.341      1.237         17        640: 100%|██████████| 3/3 [01:32<00:00, 30.85s/it]\n",
      "                 Class     Images  Instances      Box(P          R      mAP50  mAP50-95): 100%|██████████| 1/1 [00:09<00:00,  9.76s/it]"
     ]
    },
    {
     "name": "stdout",
     "output_type": "stream",
     "text": [
      "                   all          6          7      0.616      0.286      0.458      0.288\n"
     ]
    },
    {
     "name": "stderr",
     "output_type": "stream",
     "text": [
      "\n"
     ]
    },
    {
     "name": "stdout",
     "output_type": "stream",
     "text": [
      "\n",
      "      Epoch    GPU_mem   box_loss   cls_loss   dfl_loss  Instances       Size\n"
     ]
    },
    {
     "name": "stderr",
     "output_type": "stream",
     "text": [
      "      23/72         0G     0.8065       1.25      1.215         20        640: 100%|██████████| 3/3 [01:28<00:00, 29.52s/it]\n",
      "                 Class     Images  Instances      Box(P          R      mAP50  mAP50-95): 100%|██████████| 1/1 [00:16<00:00, 16.69s/it]"
     ]
    },
    {
     "name": "stdout",
     "output_type": "stream",
     "text": [
      "                   all          6          7      0.616      0.286      0.458      0.288\n"
     ]
    },
    {
     "name": "stderr",
     "output_type": "stream",
     "text": [
      "\n"
     ]
    },
    {
     "name": "stdout",
     "output_type": "stream",
     "text": [
      "\n",
      "      Epoch    GPU_mem   box_loss   cls_loss   dfl_loss  Instances       Size\n"
     ]
    },
    {
     "name": "stderr",
     "output_type": "stream",
     "text": [
      "      24/72         0G      0.753      1.421      1.295         15        640: 100%|██████████| 3/3 [01:25<00:00, 28.52s/it]\n",
      "                 Class     Images  Instances      Box(P          R      mAP50  mAP50-95): 100%|██████████| 1/1 [00:00<00:00,  1.17it/s]"
     ]
    },
    {
     "name": "stdout",
     "output_type": "stream",
     "text": [
      "                   all          6          7       0.97      0.571      0.777       0.29\n"
     ]
    },
    {
     "name": "stderr",
     "output_type": "stream",
     "text": [
      "\n"
     ]
    },
    {
     "name": "stdout",
     "output_type": "stream",
     "text": [
      "\n",
      "      Epoch    GPU_mem   box_loss   cls_loss   dfl_loss  Instances       Size\n"
     ]
    },
    {
     "name": "stderr",
     "output_type": "stream",
     "text": [
      "      25/72         0G     0.8579      1.232      1.299         18        640: 100%|██████████| 3/3 [00:07<00:00,  2.42s/it]\n",
      "                 Class     Images  Instances      Box(P          R      mAP50  mAP50-95): 100%|██████████| 1/1 [00:01<00:00,  1.37s/it]"
     ]
    },
    {
     "name": "stdout",
     "output_type": "stream",
     "text": [
      "                   all          6          7       0.97      0.571      0.777       0.29\n"
     ]
    },
    {
     "name": "stderr",
     "output_type": "stream",
     "text": [
      "\n"
     ]
    },
    {
     "name": "stdout",
     "output_type": "stream",
     "text": [
      "\n",
      "      Epoch    GPU_mem   box_loss   cls_loss   dfl_loss  Instances       Size\n"
     ]
    },
    {
     "name": "stderr",
     "output_type": "stream",
     "text": [
      "      26/72         0G     0.8212      1.309      1.295         14        640: 100%|██████████| 3/3 [00:10<00:00,  3.47s/it]\n",
      "                 Class     Images  Instances      Box(P          R      mAP50  mAP50-95): 100%|██████████| 1/1 [00:01<00:00,  1.34s/it]"
     ]
    },
    {
     "name": "stdout",
     "output_type": "stream",
     "text": [
      "                   all          6          7      0.645      0.524      0.605       0.35\n"
     ]
    },
    {
     "name": "stderr",
     "output_type": "stream",
     "text": [
      "\n"
     ]
    },
    {
     "name": "stdout",
     "output_type": "stream",
     "text": [
      "\n",
      "      Epoch    GPU_mem   box_loss   cls_loss   dfl_loss  Instances       Size\n"
     ]
    },
    {
     "name": "stderr",
     "output_type": "stream",
     "text": [
      "      27/72         0G     0.6967      1.078      1.137         18        640: 100%|██████████| 3/3 [00:09<00:00,  3.22s/it]\n",
      "                 Class     Images  Instances      Box(P          R      mAP50  mAP50-95): 100%|██████████| 1/1 [00:01<00:00,  1.30s/it]"
     ]
    },
    {
     "name": "stdout",
     "output_type": "stream",
     "text": [
      "                   all          6          7      0.645      0.524      0.605       0.35\n"
     ]
    },
    {
     "name": "stderr",
     "output_type": "stream",
     "text": [
      "\n"
     ]
    },
    {
     "name": "stdout",
     "output_type": "stream",
     "text": [
      "\n",
      "      Epoch    GPU_mem   box_loss   cls_loss   dfl_loss  Instances       Size\n"
     ]
    },
    {
     "name": "stderr",
     "output_type": "stream",
     "text": [
      "      28/72         0G     0.9305      1.376      1.307         16        640: 100%|██████████| 3/3 [00:09<00:00,  3.29s/it]\n",
      "                 Class     Images  Instances      Box(P          R      mAP50  mAP50-95): 100%|██████████| 1/1 [00:01<00:00,  1.20s/it]"
     ]
    },
    {
     "name": "stdout",
     "output_type": "stream",
     "text": [
      "                   all          6          7      0.746      0.714      0.678      0.407\n"
     ]
    },
    {
     "name": "stderr",
     "output_type": "stream",
     "text": [
      "\n"
     ]
    },
    {
     "name": "stdout",
     "output_type": "stream",
     "text": [
      "\n",
      "      Epoch    GPU_mem   box_loss   cls_loss   dfl_loss  Instances       Size\n"
     ]
    },
    {
     "name": "stderr",
     "output_type": "stream",
     "text": [
      "      29/72         0G     0.7832      1.088      1.221         22        640: 100%|██████████| 3/3 [00:09<00:00,  3.27s/it]\n",
      "                 Class     Images  Instances      Box(P          R      mAP50  mAP50-95): 100%|██████████| 1/1 [00:01<00:00,  1.32s/it]"
     ]
    },
    {
     "name": "stdout",
     "output_type": "stream",
     "text": [
      "                   all          6          7      0.746      0.714      0.678      0.407\n"
     ]
    },
    {
     "name": "stderr",
     "output_type": "stream",
     "text": [
      "\n"
     ]
    },
    {
     "name": "stdout",
     "output_type": "stream",
     "text": [
      "\n",
      "      Epoch    GPU_mem   box_loss   cls_loss   dfl_loss  Instances       Size\n"
     ]
    },
    {
     "name": "stderr",
     "output_type": "stream",
     "text": [
      "      30/72         0G     0.7653      1.172      1.152         23        640: 100%|██████████| 3/3 [00:09<00:00,  3.19s/it]\n",
      "                 Class     Images  Instances      Box(P          R      mAP50  mAP50-95): 100%|██████████| 1/1 [00:01<00:00,  1.31s/it]"
     ]
    },
    {
     "name": "stdout",
     "output_type": "stream",
     "text": [
      "                   all          6          7      0.746      0.714      0.678      0.407\n"
     ]
    },
    {
     "name": "stderr",
     "output_type": "stream",
     "text": [
      "\n"
     ]
    },
    {
     "name": "stdout",
     "output_type": "stream",
     "text": [
      "\n",
      "      Epoch    GPU_mem   box_loss   cls_loss   dfl_loss  Instances       Size\n"
     ]
    },
    {
     "name": "stderr",
     "output_type": "stream",
     "text": [
      "      31/72         0G     0.8266      1.276      1.273         13        640: 100%|██████████| 3/3 [00:10<00:00,  3.34s/it]\n",
      "                 Class     Images  Instances      Box(P          R      mAP50  mAP50-95): 100%|██████████| 1/1 [00:01<00:00,  1.32s/it]"
     ]
    },
    {
     "name": "stdout",
     "output_type": "stream",
     "text": [
      "                   all          6          7      0.843      0.857      0.841      0.464\n"
     ]
    },
    {
     "name": "stderr",
     "output_type": "stream",
     "text": [
      "\n"
     ]
    },
    {
     "name": "stdout",
     "output_type": "stream",
     "text": [
      "\n",
      "      Epoch    GPU_mem   box_loss   cls_loss   dfl_loss  Instances       Size\n"
     ]
    },
    {
     "name": "stderr",
     "output_type": "stream",
     "text": [
      "      32/72         0G     0.8155      1.275      1.189         28        640: 100%|██████████| 3/3 [00:09<00:00,  3.31s/it]\n",
      "                 Class     Images  Instances      Box(P          R      mAP50  mAP50-95): 100%|██████████| 1/1 [00:01<00:00,  1.35s/it]"
     ]
    },
    {
     "name": "stdout",
     "output_type": "stream",
     "text": [
      "                   all          6          7      0.843      0.857      0.841      0.464\n"
     ]
    },
    {
     "name": "stderr",
     "output_type": "stream",
     "text": [
      "\n"
     ]
    },
    {
     "name": "stdout",
     "output_type": "stream",
     "text": [
      "\n",
      "      Epoch    GPU_mem   box_loss   cls_loss   dfl_loss  Instances       Size\n"
     ]
    },
    {
     "name": "stderr",
     "output_type": "stream",
     "text": [
      "      33/72         0G       0.84      1.139      1.272         14        640: 100%|██████████| 3/3 [00:10<00:00,  3.47s/it]\n",
      "                 Class     Images  Instances      Box(P          R      mAP50  mAP50-95): 100%|██████████| 1/1 [00:01<00:00,  1.61s/it]"
     ]
    },
    {
     "name": "stdout",
     "output_type": "stream",
     "text": [
      "                   all          6          7      0.639      0.857      0.714      0.364\n"
     ]
    },
    {
     "name": "stderr",
     "output_type": "stream",
     "text": [
      "\n"
     ]
    },
    {
     "name": "stdout",
     "output_type": "stream",
     "text": [
      "\n",
      "      Epoch    GPU_mem   box_loss   cls_loss   dfl_loss  Instances       Size\n"
     ]
    },
    {
     "name": "stderr",
     "output_type": "stream",
     "text": [
      "      34/72         0G     0.7948       1.06      1.151         28        640: 100%|██████████| 3/3 [00:10<00:00,  3.64s/it]\n",
      "                 Class     Images  Instances      Box(P          R      mAP50  mAP50-95): 100%|██████████| 1/1 [00:01<00:00,  1.31s/it]"
     ]
    },
    {
     "name": "stdout",
     "output_type": "stream",
     "text": [
      "                   all          6          7      0.639      0.857      0.714      0.364\n"
     ]
    },
    {
     "name": "stderr",
     "output_type": "stream",
     "text": [
      "\n"
     ]
    },
    {
     "name": "stdout",
     "output_type": "stream",
     "text": [
      "\n",
      "      Epoch    GPU_mem   box_loss   cls_loss   dfl_loss  Instances       Size\n"
     ]
    },
    {
     "name": "stderr",
     "output_type": "stream",
     "text": [
      "      35/72         0G     0.7655      1.129      1.209         19        640: 100%|██████████| 3/3 [00:09<00:00,  3.31s/it]\n",
      "                 Class     Images  Instances      Box(P          R      mAP50  mAP50-95): 100%|██████████| 1/1 [00:01<00:00,  1.34s/it]"
     ]
    },
    {
     "name": "stdout",
     "output_type": "stream",
     "text": [
      "                   all          6          7      0.639      0.857      0.714      0.364\n"
     ]
    },
    {
     "name": "stderr",
     "output_type": "stream",
     "text": [
      "\n"
     ]
    },
    {
     "name": "stdout",
     "output_type": "stream",
     "text": [
      "\n",
      "      Epoch    GPU_mem   box_loss   cls_loss   dfl_loss  Instances       Size\n"
     ]
    },
    {
     "name": "stderr",
     "output_type": "stream",
     "text": [
      "      36/72         0G     0.8256      1.154      1.259         16        640: 100%|██████████| 3/3 [00:10<00:00,  3.46s/it]\n",
      "                 Class     Images  Instances      Box(P          R      mAP50  mAP50-95): 100%|██████████| 1/1 [00:01<00:00,  1.29s/it]"
     ]
    },
    {
     "name": "stdout",
     "output_type": "stream",
     "text": [
      "                   all          6          7      0.764      0.571      0.579      0.388\n"
     ]
    },
    {
     "name": "stderr",
     "output_type": "stream",
     "text": [
      "\n"
     ]
    },
    {
     "name": "stdout",
     "output_type": "stream",
     "text": [
      "\n",
      "      Epoch    GPU_mem   box_loss   cls_loss   dfl_loss  Instances       Size\n"
     ]
    },
    {
     "name": "stderr",
     "output_type": "stream",
     "text": [
      "      37/72         0G     0.7461      1.222      1.168         14        640: 100%|██████████| 3/3 [00:09<00:00,  3.19s/it]\n",
      "                 Class     Images  Instances      Box(P          R      mAP50  mAP50-95): 100%|██████████| 1/1 [00:01<00:00,  1.30s/it]"
     ]
    },
    {
     "name": "stdout",
     "output_type": "stream",
     "text": [
      "                   all          6          7      0.764      0.571      0.579      0.388\n"
     ]
    },
    {
     "name": "stderr",
     "output_type": "stream",
     "text": [
      "\n"
     ]
    },
    {
     "name": "stdout",
     "output_type": "stream",
     "text": [
      "\n",
      "      Epoch    GPU_mem   box_loss   cls_loss   dfl_loss  Instances       Size\n"
     ]
    },
    {
     "name": "stderr",
     "output_type": "stream",
     "text": [
      "      38/72         0G     0.7594       1.13      1.187         17        640: 100%|██████████| 3/3 [00:09<00:00,  3.27s/it]\n",
      "                 Class     Images  Instances      Box(P          R      mAP50  mAP50-95): 100%|██████████| 1/1 [00:01<00:00,  1.36s/it]"
     ]
    },
    {
     "name": "stdout",
     "output_type": "stream",
     "text": [
      "                   all          6          7      0.764      0.571      0.579      0.388\n"
     ]
    },
    {
     "name": "stderr",
     "output_type": "stream",
     "text": [
      "\n"
     ]
    },
    {
     "name": "stdout",
     "output_type": "stream",
     "text": [
      "\n",
      "      Epoch    GPU_mem   box_loss   cls_loss   dfl_loss  Instances       Size\n"
     ]
    },
    {
     "name": "stderr",
     "output_type": "stream",
     "text": [
      "      39/72         0G     0.7234      1.049      1.237         11        640: 100%|██████████| 3/3 [00:10<00:00,  3.35s/it]\n",
      "                 Class     Images  Instances      Box(P          R      mAP50  mAP50-95): 100%|██████████| 1/1 [00:01<00:00,  1.37s/it]"
     ]
    },
    {
     "name": "stdout",
     "output_type": "stream",
     "text": [
      "                   all          6          7      0.607      0.714      0.653      0.365\n"
     ]
    },
    {
     "name": "stderr",
     "output_type": "stream",
     "text": [
      "\n"
     ]
    },
    {
     "name": "stdout",
     "output_type": "stream",
     "text": [
      "\n",
      "      Epoch    GPU_mem   box_loss   cls_loss   dfl_loss  Instances       Size\n"
     ]
    },
    {
     "name": "stderr",
     "output_type": "stream",
     "text": [
      "      40/72         0G     0.6996      1.139      1.259         14        640: 100%|██████████| 3/3 [00:09<00:00,  3.13s/it]\n",
      "                 Class     Images  Instances      Box(P          R      mAP50  mAP50-95): 100%|██████████| 1/1 [00:01<00:00,  1.12s/it]"
     ]
    },
    {
     "name": "stdout",
     "output_type": "stream",
     "text": [
      "                   all          6          7      0.607      0.714      0.653      0.365\n"
     ]
    },
    {
     "name": "stderr",
     "output_type": "stream",
     "text": [
      "\n"
     ]
    },
    {
     "name": "stdout",
     "output_type": "stream",
     "text": [
      "\n",
      "      Epoch    GPU_mem   box_loss   cls_loss   dfl_loss  Instances       Size\n"
     ]
    },
    {
     "name": "stderr",
     "output_type": "stream",
     "text": [
      "      41/72         0G     0.7097     0.9745      1.122         23        640: 100%|██████████| 3/3 [00:30<00:00, 10.22s/it]\n",
      "                 Class     Images  Instances      Box(P          R      mAP50  mAP50-95): 100%|██████████| 1/1 [00:03<00:00,  3.63s/it]"
     ]
    },
    {
     "name": "stdout",
     "output_type": "stream",
     "text": [
      "                   all          6          7      0.585      0.714      0.698      0.362\n"
     ]
    },
    {
     "name": "stderr",
     "output_type": "stream",
     "text": [
      "\n"
     ]
    },
    {
     "name": "stdout",
     "output_type": "stream",
     "text": [
      "\n",
      "      Epoch    GPU_mem   box_loss   cls_loss   dfl_loss  Instances       Size\n"
     ]
    },
    {
     "name": "stderr",
     "output_type": "stream",
     "text": [
      "      42/72         0G     0.7005     0.9103       1.16         26        640: 100%|██████████| 3/3 [00:32<00:00, 10.71s/it]\n",
      "                 Class     Images  Instances      Box(P          R      mAP50  mAP50-95): 100%|██████████| 1/1 [00:03<00:00,  3.17s/it]"
     ]
    },
    {
     "name": "stdout",
     "output_type": "stream",
     "text": [
      "                   all          6          7      0.585      0.714      0.698      0.362\n"
     ]
    },
    {
     "name": "stderr",
     "output_type": "stream",
     "text": [
      "\n"
     ]
    },
    {
     "name": "stdout",
     "output_type": "stream",
     "text": [
      "\n",
      "      Epoch    GPU_mem   box_loss   cls_loss   dfl_loss  Instances       Size\n"
     ]
    },
    {
     "name": "stderr",
     "output_type": "stream",
     "text": [
      "      43/72         0G     0.7102     0.9443      1.187         18        640: 100%|██████████| 3/3 [00:35<00:00, 11.84s/it]\n",
      "                 Class     Images  Instances      Box(P          R      mAP50  mAP50-95): 100%|██████████| 1/1 [00:03<00:00,  3.38s/it]"
     ]
    },
    {
     "name": "stdout",
     "output_type": "stream",
     "text": [
      "                   all          6          7      0.585      0.714      0.698      0.362\n"
     ]
    },
    {
     "name": "stderr",
     "output_type": "stream",
     "text": [
      "\n"
     ]
    },
    {
     "name": "stdout",
     "output_type": "stream",
     "text": [
      "\n",
      "      Epoch    GPU_mem   box_loss   cls_loss   dfl_loss  Instances       Size\n"
     ]
    },
    {
     "name": "stderr",
     "output_type": "stream",
     "text": [
      "      44/72         0G     0.6389     0.9479      1.157         18        640: 100%|██████████| 3/3 [00:34<00:00, 11.51s/it]\n",
      "                 Class     Images  Instances      Box(P          R      mAP50  mAP50-95): 100%|██████████| 1/1 [00:03<00:00,  3.08s/it]"
     ]
    },
    {
     "name": "stdout",
     "output_type": "stream",
     "text": [
      "                   all          6          7      0.582        0.6      0.693      0.475\n"
     ]
    },
    {
     "name": "stderr",
     "output_type": "stream",
     "text": [
      "\n"
     ]
    },
    {
     "name": "stdout",
     "output_type": "stream",
     "text": [
      "\n",
      "      Epoch    GPU_mem   box_loss   cls_loss   dfl_loss  Instances       Size\n"
     ]
    },
    {
     "name": "stderr",
     "output_type": "stream",
     "text": [
      "      45/72         0G     0.7239      1.046      1.234         13        640: 100%|██████████| 3/3 [00:33<00:00, 11.03s/it]\n",
      "                 Class     Images  Instances      Box(P          R      mAP50  mAP50-95): 100%|██████████| 1/1 [00:03<00:00,  3.34s/it]"
     ]
    },
    {
     "name": "stdout",
     "output_type": "stream",
     "text": [
      "                   all          6          7      0.582        0.6      0.693      0.475\n"
     ]
    },
    {
     "name": "stderr",
     "output_type": "stream",
     "text": [
      "\n"
     ]
    },
    {
     "name": "stdout",
     "output_type": "stream",
     "text": [
      "\n",
      "      Epoch    GPU_mem   box_loss   cls_loss   dfl_loss  Instances       Size\n"
     ]
    },
    {
     "name": "stderr",
     "output_type": "stream",
     "text": [
      "      46/72         0G     0.6645       1.03      1.185         14        640: 100%|██████████| 3/3 [00:33<00:00, 11.26s/it]\n",
      "                 Class     Images  Instances      Box(P          R      mAP50  mAP50-95): 100%|██████████| 1/1 [00:03<00:00,  3.58s/it]"
     ]
    },
    {
     "name": "stdout",
     "output_type": "stream",
     "text": [
      "                   all          6          7      0.582        0.6      0.693      0.475\n"
     ]
    },
    {
     "name": "stderr",
     "output_type": "stream",
     "text": [
      "\n"
     ]
    },
    {
     "name": "stdout",
     "output_type": "stream",
     "text": [
      "\n",
      "      Epoch    GPU_mem   box_loss   cls_loss   dfl_loss  Instances       Size\n"
     ]
    },
    {
     "name": "stderr",
     "output_type": "stream",
     "text": [
      "      47/72         0G      0.666     0.9488      1.067         16        640: 100%|██████████| 3/3 [00:37<00:00, 12.34s/it]\n",
      "                 Class     Images  Instances      Box(P          R      mAP50  mAP50-95): 100%|██████████| 1/1 [00:04<00:00,  4.17s/it]"
     ]
    },
    {
     "name": "stdout",
     "output_type": "stream",
     "text": [
      "                   all          6          7      0.623      0.571      0.604      0.461\n"
     ]
    },
    {
     "name": "stderr",
     "output_type": "stream",
     "text": [
      "\n"
     ]
    },
    {
     "name": "stdout",
     "output_type": "stream",
     "text": [
      "\n",
      "      Epoch    GPU_mem   box_loss   cls_loss   dfl_loss  Instances       Size\n"
     ]
    },
    {
     "name": "stderr",
     "output_type": "stream",
     "text": [
      "      48/72         0G     0.7633     0.9515      1.242         21        640: 100%|██████████| 3/3 [00:33<00:00, 11.28s/it]\n",
      "                 Class     Images  Instances      Box(P          R      mAP50  mAP50-95): 100%|██████████| 1/1 [00:03<00:00,  3.71s/it]"
     ]
    },
    {
     "name": "stdout",
     "output_type": "stream",
     "text": [
      "                   all          6          7      0.623      0.571      0.604      0.461\n"
     ]
    },
    {
     "name": "stderr",
     "output_type": "stream",
     "text": [
      "\n"
     ]
    },
    {
     "name": "stdout",
     "output_type": "stream",
     "text": [
      "\n",
      "      Epoch    GPU_mem   box_loss   cls_loss   dfl_loss  Instances       Size\n"
     ]
    },
    {
     "name": "stderr",
     "output_type": "stream",
     "text": [
      "      49/72         0G     0.6962     0.8798       1.15         25        640: 100%|██████████| 3/3 [00:34<00:00, 11.54s/it]\n",
      "                 Class     Images  Instances      Box(P          R      mAP50  mAP50-95): 100%|██████████| 1/1 [00:03<00:00,  3.68s/it]"
     ]
    },
    {
     "name": "stdout",
     "output_type": "stream",
     "text": [
      "                   all          6          7      0.593      0.714       0.55      0.377\n"
     ]
    },
    {
     "name": "stderr",
     "output_type": "stream",
     "text": [
      "\n"
     ]
    },
    {
     "name": "stdout",
     "output_type": "stream",
     "text": [
      "\n",
      "      Epoch    GPU_mem   box_loss   cls_loss   dfl_loss  Instances       Size\n"
     ]
    },
    {
     "name": "stderr",
     "output_type": "stream",
     "text": [
      "      50/72         0G      0.816     0.9313      1.185         22        640: 100%|██████████| 3/3 [00:36<00:00, 12.25s/it]\n",
      "                 Class     Images  Instances      Box(P          R      mAP50  mAP50-95): 100%|██████████| 1/1 [00:03<00:00,  3.65s/it]"
     ]
    },
    {
     "name": "stdout",
     "output_type": "stream",
     "text": [
      "                   all          6          7      0.593      0.714       0.55      0.377\n"
     ]
    },
    {
     "name": "stderr",
     "output_type": "stream",
     "text": [
      "\n"
     ]
    },
    {
     "name": "stdout",
     "output_type": "stream",
     "text": [
      "\n",
      "      Epoch    GPU_mem   box_loss   cls_loss   dfl_loss  Instances       Size\n"
     ]
    },
    {
     "name": "stderr",
     "output_type": "stream",
     "text": [
      "      51/72         0G     0.6618     0.9442      1.151         24        640: 100%|██████████| 3/3 [00:33<00:00, 11.29s/it]\n",
      "                 Class     Images  Instances      Box(P          R      mAP50  mAP50-95): 100%|██████████| 1/1 [00:03<00:00,  3.66s/it]"
     ]
    },
    {
     "name": "stdout",
     "output_type": "stream",
     "text": [
      "                   all          6          7      0.593      0.714       0.55      0.377\n"
     ]
    },
    {
     "name": "stderr",
     "output_type": "stream",
     "text": [
      "\n"
     ]
    },
    {
     "name": "stdout",
     "output_type": "stream",
     "text": [
      "\n",
      "      Epoch    GPU_mem   box_loss   cls_loss   dfl_loss  Instances       Size\n"
     ]
    },
    {
     "name": "stderr",
     "output_type": "stream",
     "text": [
      "      52/72         0G     0.6531     0.9026      1.132         17        640: 100%|██████████| 3/3 [00:33<00:00, 11.11s/it]\n",
      "                 Class     Images  Instances      Box(P          R      mAP50  mAP50-95): 100%|██████████| 1/1 [00:03<00:00,  3.16s/it]"
     ]
    },
    {
     "name": "stdout",
     "output_type": "stream",
     "text": [
      "                   all          6          7       0.65      0.571       0.57      0.416\n"
     ]
    },
    {
     "name": "stderr",
     "output_type": "stream",
     "text": [
      "\n"
     ]
    },
    {
     "name": "stdout",
     "output_type": "stream",
     "text": [
      "\n",
      "      Epoch    GPU_mem   box_loss   cls_loss   dfl_loss  Instances       Size\n"
     ]
    },
    {
     "name": "stderr",
     "output_type": "stream",
     "text": [
      "      53/72         0G     0.6589      1.074      1.154         18        640: 100%|██████████| 3/3 [00:34<00:00, 11.54s/it]\n",
      "                 Class     Images  Instances      Box(P          R      mAP50  mAP50-95): 100%|██████████| 1/1 [00:03<00:00,  3.27s/it]"
     ]
    },
    {
     "name": "stdout",
     "output_type": "stream",
     "text": [
      "                   all          6          7       0.65      0.571       0.57      0.416\n"
     ]
    },
    {
     "name": "stderr",
     "output_type": "stream",
     "text": [
      "\n"
     ]
    },
    {
     "name": "stdout",
     "output_type": "stream",
     "text": [
      "\n",
      "      Epoch    GPU_mem   box_loss   cls_loss   dfl_loss  Instances       Size\n"
     ]
    },
    {
     "name": "stderr",
     "output_type": "stream",
     "text": [
      "      54/72         0G     0.6308     0.9612       1.11         17        640: 100%|██████████| 3/3 [00:35<00:00, 11.87s/it]\n",
      "                 Class     Images  Instances      Box(P          R      mAP50  mAP50-95): 100%|██████████| 1/1 [00:03<00:00,  3.27s/it]"
     ]
    },
    {
     "name": "stdout",
     "output_type": "stream",
     "text": [
      "                   all          6          7       0.65      0.571       0.57      0.416\n"
     ]
    },
    {
     "name": "stderr",
     "output_type": "stream",
     "text": [
      "\n"
     ]
    },
    {
     "name": "stdout",
     "output_type": "stream",
     "text": [
      "\n",
      "      Epoch    GPU_mem   box_loss   cls_loss   dfl_loss  Instances       Size\n"
     ]
    },
    {
     "name": "stderr",
     "output_type": "stream",
     "text": [
      "      55/72         0G     0.6335     0.9479      1.114         14        640: 100%|██████████| 3/3 [00:33<00:00, 11.30s/it]\n",
      "                 Class     Images  Instances      Box(P          R      mAP50  mAP50-95): 100%|██████████| 1/1 [00:03<00:00,  3.48s/it]"
     ]
    },
    {
     "name": "stdout",
     "output_type": "stream",
     "text": [
      "                   all          6          7       0.71      0.702      0.638      0.445\n"
     ]
    },
    {
     "name": "stderr",
     "output_type": "stream",
     "text": [
      "\n"
     ]
    },
    {
     "name": "stdout",
     "output_type": "stream",
     "text": [
      "\n",
      "      Epoch    GPU_mem   box_loss   cls_loss   dfl_loss  Instances       Size\n"
     ]
    },
    {
     "name": "stderr",
     "output_type": "stream",
     "text": [
      "      56/72         0G     0.6026     0.8404      1.102         14        640: 100%|██████████| 3/3 [00:34<00:00, 11.50s/it]\n",
      "                 Class     Images  Instances      Box(P          R      mAP50  mAP50-95): 100%|██████████| 1/1 [00:03<00:00,  3.23s/it]"
     ]
    },
    {
     "name": "stdout",
     "output_type": "stream",
     "text": [
      "                   all          6          7       0.71      0.702      0.638      0.445\n"
     ]
    },
    {
     "name": "stderr",
     "output_type": "stream",
     "text": [
      "\n"
     ]
    },
    {
     "name": "stdout",
     "output_type": "stream",
     "text": [
      "\n",
      "      Epoch    GPU_mem   box_loss   cls_loss   dfl_loss  Instances       Size\n"
     ]
    },
    {
     "name": "stderr",
     "output_type": "stream",
     "text": [
      "      57/72         0G      0.706     0.9002       1.17         20        640: 100%|██████████| 3/3 [00:40<00:00, 13.33s/it]\n",
      "                 Class     Images  Instances      Box(P          R      mAP50  mAP50-95): 100%|██████████| 1/1 [00:02<00:00,  2.50s/it]"
     ]
    },
    {
     "name": "stdout",
     "output_type": "stream",
     "text": [
      "                   all          6          7      0.711      0.704      0.606      0.435\n"
     ]
    },
    {
     "name": "stderr",
     "output_type": "stream",
     "text": [
      "\n"
     ]
    },
    {
     "name": "stdout",
     "output_type": "stream",
     "text": [
      "\n",
      "      Epoch    GPU_mem   box_loss   cls_loss   dfl_loss  Instances       Size\n"
     ]
    },
    {
     "name": "stderr",
     "output_type": "stream",
     "text": [
      "      58/72         0G     0.6789     0.8718       1.17         25        640: 100%|██████████| 3/3 [00:07<00:00,  2.38s/it]\n",
      "                 Class     Images  Instances      Box(P          R      mAP50  mAP50-95): 100%|██████████| 1/1 [00:03<00:00,  3.39s/it]"
     ]
    },
    {
     "name": "stdout",
     "output_type": "stream",
     "text": [
      "                   all          6          7      0.711      0.704      0.606      0.435\n"
     ]
    },
    {
     "name": "stderr",
     "output_type": "stream",
     "text": [
      "\n"
     ]
    },
    {
     "name": "stdout",
     "output_type": "stream",
     "text": [
      "\n",
      "      Epoch    GPU_mem   box_loss   cls_loss   dfl_loss  Instances       Size\n"
     ]
    },
    {
     "name": "stderr",
     "output_type": "stream",
     "text": [
      "      59/72         0G     0.7006     0.9215      1.185         13        640: 100%|██████████| 3/3 [00:32<00:00, 10.98s/it]\n",
      "                 Class     Images  Instances      Box(P          R      mAP50  mAP50-95): 100%|██████████| 1/1 [00:03<00:00,  3.62s/it]"
     ]
    },
    {
     "name": "stdout",
     "output_type": "stream",
     "text": [
      "                   all          6          7      0.711      0.704      0.606      0.435\n"
     ]
    },
    {
     "name": "stderr",
     "output_type": "stream",
     "text": [
      "\n"
     ]
    },
    {
     "name": "stdout",
     "output_type": "stream",
     "text": [
      "\n",
      "      Epoch    GPU_mem   box_loss   cls_loss   dfl_loss  Instances       Size\n"
     ]
    },
    {
     "name": "stderr",
     "output_type": "stream",
     "text": [
      "      60/72         0G     0.6447     0.8823      1.081         23        640: 100%|██████████| 3/3 [00:35<00:00, 11.85s/it]\n",
      "                 Class     Images  Instances      Box(P          R      mAP50  mAP50-95): 100%|██████████| 1/1 [00:03<00:00,  3.11s/it]"
     ]
    },
    {
     "name": "stdout",
     "output_type": "stream",
     "text": [
      "                   all          6          7      0.612      0.714      0.652      0.485\n"
     ]
    },
    {
     "name": "stderr",
     "output_type": "stream",
     "text": [
      "\n"
     ]
    },
    {
     "name": "stdout",
     "output_type": "stream",
     "text": [
      "\n",
      "      Epoch    GPU_mem   box_loss   cls_loss   dfl_loss  Instances       Size\n"
     ]
    },
    {
     "name": "stderr",
     "output_type": "stream",
     "text": [
      "      61/72         0G     0.6027     0.9164      1.115         10        640: 100%|██████████| 3/3 [00:31<00:00, 10.49s/it]\n",
      "                 Class     Images  Instances      Box(P          R      mAP50  mAP50-95): 100%|██████████| 1/1 [00:00<00:00,  1.50it/s]"
     ]
    },
    {
     "name": "stdout",
     "output_type": "stream",
     "text": [
      "                   all          6          7      0.612      0.714      0.652      0.485\n"
     ]
    },
    {
     "name": "stderr",
     "output_type": "stream",
     "text": [
      "\n"
     ]
    },
    {
     "name": "stdout",
     "output_type": "stream",
     "text": [
      "\n",
      "      Epoch    GPU_mem   box_loss   cls_loss   dfl_loss  Instances       Size\n"
     ]
    },
    {
     "name": "stderr",
     "output_type": "stream",
     "text": [
      "      62/72         0G     0.6203     0.9172      1.152         12        640: 100%|██████████| 3/3 [00:06<00:00,  2.15s/it]\n",
      "                 Class     Images  Instances      Box(P          R      mAP50  mAP50-95): 100%|██████████| 1/1 [00:00<00:00,  1.03it/s]"
     ]
    },
    {
     "name": "stdout",
     "output_type": "stream",
     "text": [
      "                   all          6          7      0.612      0.714      0.652      0.485\n"
     ]
    },
    {
     "name": "stderr",
     "output_type": "stream",
     "text": [
      "\n"
     ]
    },
    {
     "name": "stdout",
     "output_type": "stream",
     "text": [
      "Closing dataloader mosaic\n",
      "\n",
      "      Epoch    GPU_mem   box_loss   cls_loss   dfl_loss  Instances       Size\n"
     ]
    },
    {
     "name": "stderr",
     "output_type": "stream",
     "text": [
      "      63/72         0G     0.5427       1.09      1.036          7        640: 100%|██████████| 3/3 [00:09<00:00,  3.24s/it]\n",
      "                 Class     Images  Instances      Box(P          R      mAP50  mAP50-95): 100%|██████████| 1/1 [00:01<00:00,  1.38s/it]"
     ]
    },
    {
     "name": "stdout",
     "output_type": "stream",
     "text": [
      "                   all          6          7      0.618      0.714      0.678       0.54\n"
     ]
    },
    {
     "name": "stderr",
     "output_type": "stream",
     "text": [
      "\n"
     ]
    },
    {
     "name": "stdout",
     "output_type": "stream",
     "text": [
      "\n",
      "      Epoch    GPU_mem   box_loss   cls_loss   dfl_loss  Instances       Size\n"
     ]
    },
    {
     "name": "stderr",
     "output_type": "stream",
     "text": [
      "      64/72         0G     0.5147      1.174      1.154         11        640: 100%|██████████| 3/3 [00:10<00:00,  3.53s/it]\n",
      "                 Class     Images  Instances      Box(P          R      mAP50  mAP50-95): 100%|██████████| 1/1 [00:01<00:00,  1.64s/it]"
     ]
    },
    {
     "name": "stdout",
     "output_type": "stream",
     "text": [
      "                   all          6          7      0.618      0.714      0.678       0.54\n"
     ]
    },
    {
     "name": "stderr",
     "output_type": "stream",
     "text": [
      "\n"
     ]
    },
    {
     "name": "stdout",
     "output_type": "stream",
     "text": [
      "\n",
      "      Epoch    GPU_mem   box_loss   cls_loss   dfl_loss  Instances       Size\n"
     ]
    },
    {
     "name": "stderr",
     "output_type": "stream",
     "text": [
      "      65/72         0G     0.6267      1.494      1.169         14        640: 100%|██████████| 3/3 [00:11<00:00,  3.71s/it]\n",
      "                 Class     Images  Instances      Box(P          R      mAP50  mAP50-95): 100%|██████████| 1/1 [00:01<00:00,  1.39s/it]"
     ]
    },
    {
     "name": "stdout",
     "output_type": "stream",
     "text": [
      "                   all          6          7      0.622      0.706      0.615      0.495\n"
     ]
    },
    {
     "name": "stderr",
     "output_type": "stream",
     "text": [
      "\n"
     ]
    },
    {
     "name": "stdout",
     "output_type": "stream",
     "text": [
      "\n",
      "      Epoch    GPU_mem   box_loss   cls_loss   dfl_loss  Instances       Size\n"
     ]
    },
    {
     "name": "stderr",
     "output_type": "stream",
     "text": [
      "      66/72         0G     0.6873       1.37      1.234          8        640: 100%|██████████| 3/3 [00:11<00:00,  3.73s/it]\n",
      "                 Class     Images  Instances      Box(P          R      mAP50  mAP50-95): 100%|██████████| 1/1 [00:01<00:00,  1.41s/it]"
     ]
    },
    {
     "name": "stdout",
     "output_type": "stream",
     "text": [
      "                   all          6          7      0.622      0.706      0.615      0.495\n"
     ]
    },
    {
     "name": "stderr",
     "output_type": "stream",
     "text": [
      "\n"
     ]
    },
    {
     "name": "stdout",
     "output_type": "stream",
     "text": [
      "\n",
      "      Epoch    GPU_mem   box_loss   cls_loss   dfl_loss  Instances       Size\n"
     ]
    },
    {
     "name": "stderr",
     "output_type": "stream",
     "text": [
      "      67/72         0G     0.5433      1.135      1.119         10        640: 100%|██████████| 3/3 [00:11<00:00,  3.75s/it]\n",
      "                 Class     Images  Instances      Box(P          R      mAP50  mAP50-95): 100%|██████████| 1/1 [00:01<00:00,  1.34s/it]"
     ]
    },
    {
     "name": "stdout",
     "output_type": "stream",
     "text": [
      "                   all          6          7      0.622      0.706      0.615      0.495\n"
     ]
    },
    {
     "name": "stderr",
     "output_type": "stream",
     "text": [
      "\n"
     ]
    },
    {
     "name": "stdout",
     "output_type": "stream",
     "text": [
      "\n",
      "      Epoch    GPU_mem   box_loss   cls_loss   dfl_loss  Instances       Size\n"
     ]
    },
    {
     "name": "stderr",
     "output_type": "stream",
     "text": [
      "      68/72         0G     0.5159      1.192      1.085          7        640: 100%|██████████| 3/3 [00:16<00:00,  5.44s/it]\n",
      "                 Class     Images  Instances      Box(P          R      mAP50  mAP50-95): 100%|██████████| 1/1 [00:01<00:00,  1.30s/it]"
     ]
    },
    {
     "name": "stdout",
     "output_type": "stream",
     "text": [
      "                   all          6          7      0.624      0.711      0.628       0.48\n"
     ]
    },
    {
     "name": "stderr",
     "output_type": "stream",
     "text": [
      "\n"
     ]
    },
    {
     "name": "stdout",
     "output_type": "stream",
     "text": [
      "\n",
      "      Epoch    GPU_mem   box_loss   cls_loss   dfl_loss  Instances       Size\n"
     ]
    },
    {
     "name": "stderr",
     "output_type": "stream",
     "text": [
      "      69/72         0G     0.5039       1.15      1.084          7        640: 100%|██████████| 3/3 [00:09<00:00,  3.22s/it]\n",
      "                 Class     Images  Instances      Box(P          R      mAP50  mAP50-95): 100%|██████████| 1/1 [00:01<00:00,  1.30s/it]"
     ]
    },
    {
     "name": "stdout",
     "output_type": "stream",
     "text": [
      "                   all          6          7      0.624      0.711      0.628       0.48\n"
     ]
    },
    {
     "name": "stderr",
     "output_type": "stream",
     "text": [
      "\n"
     ]
    },
    {
     "name": "stdout",
     "output_type": "stream",
     "text": [
      "\n",
      "      Epoch    GPU_mem   box_loss   cls_loss   dfl_loss  Instances       Size\n"
     ]
    },
    {
     "name": "stderr",
     "output_type": "stream",
     "text": [
      "      70/72         0G     0.5027      1.061      1.118          8        640: 100%|██████████| 3/3 [00:09<00:00,  3.12s/it]\n",
      "                 Class     Images  Instances      Box(P          R      mAP50  mAP50-95): 100%|██████████| 1/1 [00:01<00:00,  1.17s/it]"
     ]
    },
    {
     "name": "stdout",
     "output_type": "stream",
     "text": [
      "                   all          6          7      0.624      0.711      0.628       0.48\n"
     ]
    },
    {
     "name": "stderr",
     "output_type": "stream",
     "text": [
      "\n"
     ]
    },
    {
     "name": "stdout",
     "output_type": "stream",
     "text": [
      "\n",
      "      Epoch    GPU_mem   box_loss   cls_loss   dfl_loss  Instances       Size\n"
     ]
    },
    {
     "name": "stderr",
     "output_type": "stream",
     "text": [
      "      71/72         0G     0.6713      1.354      1.369          6        640: 100%|██████████| 3/3 [00:08<00:00,  2.84s/it]\n",
      "                 Class     Images  Instances      Box(P          R      mAP50  mAP50-95): 100%|██████████| 1/1 [00:01<00:00,  1.07s/it]"
     ]
    },
    {
     "name": "stdout",
     "output_type": "stream",
     "text": [
      "                   all          6          7      0.621      0.714      0.627      0.481\n"
     ]
    },
    {
     "name": "stderr",
     "output_type": "stream",
     "text": [
      "\n"
     ]
    },
    {
     "name": "stdout",
     "output_type": "stream",
     "text": [
      "\n",
      "      Epoch    GPU_mem   box_loss   cls_loss   dfl_loss  Instances       Size\n"
     ]
    },
    {
     "name": "stderr",
     "output_type": "stream",
     "text": [
      "      72/72         0G     0.5338      1.137      1.107          8        640: 100%|██████████| 3/3 [00:07<00:00,  2.66s/it]\n",
      "                 Class     Images  Instances      Box(P          R      mAP50  mAP50-95): 100%|██████████| 1/1 [00:01<00:00,  1.08s/it]"
     ]
    },
    {
     "name": "stdout",
     "output_type": "stream",
     "text": [
      "                   all          6          7      0.621      0.714      0.627      0.481\n"
     ]
    },
    {
     "name": "stderr",
     "output_type": "stream",
     "text": [
      "\n"
     ]
    },
    {
     "name": "stdout",
     "output_type": "stream",
     "text": [
      "\n",
      "72 epochs completed in 0.565 hours.\n",
      "Optimizer stripped from runs\\detect\\train6\\weights\\last.pt, 6.3MB\n",
      "Optimizer stripped from runs\\detect\\train6\\weights\\best.pt, 6.3MB\n",
      "\n",
      "Validating runs\\detect\\train6\\weights\\best.pt...\n",
      "Ultralytics YOLOv8.2.86  Python-3.12.1 torch-2.3.1+cpu CPU (13th Gen Intel Core(TM) i5-1345U)\n",
      "Model summary (fused): 168 layers, 3,005,843 parameters, 0 gradients, 8.1 GFLOPs\n"
     ]
    },
    {
     "name": "stderr",
     "output_type": "stream",
     "text": [
      "                 Class     Images  Instances      Box(P          R      mAP50  mAP50-95): 100%|██████████| 1/1 [00:00<00:00,  1.40it/s]\n"
     ]
    },
    {
     "name": "stdout",
     "output_type": "stream",
     "text": [
      "                   all          6          7      0.617      0.714      0.678       0.54\n",
      "Speed: 1.0ms preprocess, 93.6ms inference, 0.0ms loss, 10.5ms postprocess per image\n",
      "Results saved to \u001b[1mruns\\detect\\train6\u001b[0m\n"
     ]
    },
    {
     "data": {
      "text/plain": [
       "ultralytics.utils.metrics.DetMetrics object with attributes:\n",
       "\n",
       "ap_class_index: array([0])\n",
       "box: ultralytics.utils.metrics.Metric object\n",
       "confusion_matrix: <ultralytics.utils.metrics.ConfusionMatrix object at 0x00000254F215FAA0>\n",
       "curves: ['Precision-Recall(B)', 'F1-Confidence(B)', 'Precision-Confidence(B)', 'Recall-Confidence(B)']\n",
       "curves_results: [[array([          0,    0.001001,    0.002002,    0.003003,    0.004004,    0.005005,    0.006006,    0.007007,    0.008008,    0.009009,     0.01001,    0.011011,    0.012012,    0.013013,    0.014014,    0.015015,    0.016016,    0.017017,    0.018018,    0.019019,     0.02002,    0.021021,    0.022022,    0.023023,\n",
       "          0.024024,    0.025025,    0.026026,    0.027027,    0.028028,    0.029029,     0.03003,    0.031031,    0.032032,    0.033033,    0.034034,    0.035035,    0.036036,    0.037037,    0.038038,    0.039039,     0.04004,    0.041041,    0.042042,    0.043043,    0.044044,    0.045045,    0.046046,    0.047047,\n",
       "          0.048048,    0.049049,     0.05005,    0.051051,    0.052052,    0.053053,    0.054054,    0.055055,    0.056056,    0.057057,    0.058058,    0.059059,     0.06006,    0.061061,    0.062062,    0.063063,    0.064064,    0.065065,    0.066066,    0.067067,    0.068068,    0.069069,     0.07007,    0.071071,\n",
       "          0.072072,    0.073073,    0.074074,    0.075075,    0.076076,    0.077077,    0.078078,    0.079079,     0.08008,    0.081081,    0.082082,    0.083083,    0.084084,    0.085085,    0.086086,    0.087087,    0.088088,    0.089089,     0.09009,    0.091091,    0.092092,    0.093093,    0.094094,    0.095095,\n",
       "          0.096096,    0.097097,    0.098098,    0.099099,      0.1001,      0.1011,      0.1021,      0.1031,      0.1041,     0.10511,     0.10611,     0.10711,     0.10811,     0.10911,     0.11011,     0.11111,     0.11211,     0.11311,     0.11411,     0.11512,     0.11612,     0.11712,     0.11812,     0.11912,\n",
       "           0.12012,     0.12112,     0.12212,     0.12312,     0.12412,     0.12513,     0.12613,     0.12713,     0.12813,     0.12913,     0.13013,     0.13113,     0.13213,     0.13313,     0.13413,     0.13514,     0.13614,     0.13714,     0.13814,     0.13914,     0.14014,     0.14114,     0.14214,     0.14314,\n",
       "           0.14414,     0.14515,     0.14615,     0.14715,     0.14815,     0.14915,     0.15015,     0.15115,     0.15215,     0.15315,     0.15415,     0.15516,     0.15616,     0.15716,     0.15816,     0.15916,     0.16016,     0.16116,     0.16216,     0.16316,     0.16416,     0.16517,     0.16617,     0.16717,\n",
       "           0.16817,     0.16917,     0.17017,     0.17117,     0.17217,     0.17317,     0.17417,     0.17518,     0.17618,     0.17718,     0.17818,     0.17918,     0.18018,     0.18118,     0.18218,     0.18318,     0.18418,     0.18519,     0.18619,     0.18719,     0.18819,     0.18919,     0.19019,     0.19119,\n",
       "           0.19219,     0.19319,     0.19419,      0.1952,      0.1962,      0.1972,      0.1982,      0.1992,      0.2002,      0.2012,      0.2022,      0.2032,      0.2042,     0.20521,     0.20621,     0.20721,     0.20821,     0.20921,     0.21021,     0.21121,     0.21221,     0.21321,     0.21421,     0.21522,\n",
       "           0.21622,     0.21722,     0.21822,     0.21922,     0.22022,     0.22122,     0.22222,     0.22322,     0.22422,     0.22523,     0.22623,     0.22723,     0.22823,     0.22923,     0.23023,     0.23123,     0.23223,     0.23323,     0.23423,     0.23524,     0.23624,     0.23724,     0.23824,     0.23924,\n",
       "           0.24024,     0.24124,     0.24224,     0.24324,     0.24424,     0.24525,     0.24625,     0.24725,     0.24825,     0.24925,     0.25025,     0.25125,     0.25225,     0.25325,     0.25425,     0.25526,     0.25626,     0.25726,     0.25826,     0.25926,     0.26026,     0.26126,     0.26226,     0.26326,\n",
       "           0.26426,     0.26527,     0.26627,     0.26727,     0.26827,     0.26927,     0.27027,     0.27127,     0.27227,     0.27327,     0.27427,     0.27528,     0.27628,     0.27728,     0.27828,     0.27928,     0.28028,     0.28128,     0.28228,     0.28328,     0.28428,     0.28529,     0.28629,     0.28729,\n",
       "           0.28829,     0.28929,     0.29029,     0.29129,     0.29229,     0.29329,     0.29429,      0.2953,      0.2963,      0.2973,      0.2983,      0.2993,      0.3003,      0.3013,      0.3023,      0.3033,      0.3043,     0.30531,     0.30631,     0.30731,     0.30831,     0.30931,     0.31031,     0.31131,\n",
       "           0.31231,     0.31331,     0.31431,     0.31532,     0.31632,     0.31732,     0.31832,     0.31932,     0.32032,     0.32132,     0.32232,     0.32332,     0.32432,     0.32533,     0.32633,     0.32733,     0.32833,     0.32933,     0.33033,     0.33133,     0.33233,     0.33333,     0.33433,     0.33534,\n",
       "           0.33634,     0.33734,     0.33834,     0.33934,     0.34034,     0.34134,     0.34234,     0.34334,     0.34434,     0.34535,     0.34635,     0.34735,     0.34835,     0.34935,     0.35035,     0.35135,     0.35235,     0.35335,     0.35435,     0.35536,     0.35636,     0.35736,     0.35836,     0.35936,\n",
       "           0.36036,     0.36136,     0.36236,     0.36336,     0.36436,     0.36537,     0.36637,     0.36737,     0.36837,     0.36937,     0.37037,     0.37137,     0.37237,     0.37337,     0.37437,     0.37538,     0.37638,     0.37738,     0.37838,     0.37938,     0.38038,     0.38138,     0.38238,     0.38338,\n",
       "           0.38438,     0.38539,     0.38639,     0.38739,     0.38839,     0.38939,     0.39039,     0.39139,     0.39239,     0.39339,     0.39439,      0.3954,      0.3964,      0.3974,      0.3984,      0.3994,      0.4004,      0.4014,      0.4024,      0.4034,      0.4044,     0.40541,     0.40641,     0.40741,\n",
       "           0.40841,     0.40941,     0.41041,     0.41141,     0.41241,     0.41341,     0.41441,     0.41542,     0.41642,     0.41742,     0.41842,     0.41942,     0.42042,     0.42142,     0.42242,     0.42342,     0.42442,     0.42543,     0.42643,     0.42743,     0.42843,     0.42943,     0.43043,     0.43143,\n",
       "           0.43243,     0.43343,     0.43443,     0.43544,     0.43644,     0.43744,     0.43844,     0.43944,     0.44044,     0.44144,     0.44244,     0.44344,     0.44444,     0.44545,     0.44645,     0.44745,     0.44845,     0.44945,     0.45045,     0.45145,     0.45245,     0.45345,     0.45445,     0.45546,\n",
       "           0.45646,     0.45746,     0.45846,     0.45946,     0.46046,     0.46146,     0.46246,     0.46346,     0.46446,     0.46547,     0.46647,     0.46747,     0.46847,     0.46947,     0.47047,     0.47147,     0.47247,     0.47347,     0.47447,     0.47548,     0.47648,     0.47748,     0.47848,     0.47948,\n",
       "           0.48048,     0.48148,     0.48248,     0.48348,     0.48448,     0.48549,     0.48649,     0.48749,     0.48849,     0.48949,     0.49049,     0.49149,     0.49249,     0.49349,     0.49449,      0.4955,      0.4965,      0.4975,      0.4985,      0.4995,      0.5005,      0.5015,      0.5025,      0.5035,\n",
       "            0.5045,     0.50551,     0.50651,     0.50751,     0.50851,     0.50951,     0.51051,     0.51151,     0.51251,     0.51351,     0.51451,     0.51552,     0.51652,     0.51752,     0.51852,     0.51952,     0.52052,     0.52152,     0.52252,     0.52352,     0.52452,     0.52553,     0.52653,     0.52753,\n",
       "           0.52853,     0.52953,     0.53053,     0.53153,     0.53253,     0.53353,     0.53453,     0.53554,     0.53654,     0.53754,     0.53854,     0.53954,     0.54054,     0.54154,     0.54254,     0.54354,     0.54454,     0.54555,     0.54655,     0.54755,     0.54855,     0.54955,     0.55055,     0.55155,\n",
       "           0.55255,     0.55355,     0.55455,     0.55556,     0.55656,     0.55756,     0.55856,     0.55956,     0.56056,     0.56156,     0.56256,     0.56356,     0.56456,     0.56557,     0.56657,     0.56757,     0.56857,     0.56957,     0.57057,     0.57157,     0.57257,     0.57357,     0.57457,     0.57558,\n",
       "           0.57658,     0.57758,     0.57858,     0.57958,     0.58058,     0.58158,     0.58258,     0.58358,     0.58458,     0.58559,     0.58659,     0.58759,     0.58859,     0.58959,     0.59059,     0.59159,     0.59259,     0.59359,     0.59459,      0.5956,      0.5966,      0.5976,      0.5986,      0.5996,\n",
       "            0.6006,      0.6016,      0.6026,      0.6036,      0.6046,     0.60561,     0.60661,     0.60761,     0.60861,     0.60961,     0.61061,     0.61161,     0.61261,     0.61361,     0.61461,     0.61562,     0.61662,     0.61762,     0.61862,     0.61962,     0.62062,     0.62162,     0.62262,     0.62362,\n",
       "           0.62462,     0.62563,     0.62663,     0.62763,     0.62863,     0.62963,     0.63063,     0.63163,     0.63263,     0.63363,     0.63463,     0.63564,     0.63664,     0.63764,     0.63864,     0.63964,     0.64064,     0.64164,     0.64264,     0.64364,     0.64464,     0.64565,     0.64665,     0.64765,\n",
       "           0.64865,     0.64965,     0.65065,     0.65165,     0.65265,     0.65365,     0.65465,     0.65566,     0.65666,     0.65766,     0.65866,     0.65966,     0.66066,     0.66166,     0.66266,     0.66366,     0.66466,     0.66567,     0.66667,     0.66767,     0.66867,     0.66967,     0.67067,     0.67167,\n",
       "           0.67267,     0.67367,     0.67467,     0.67568,     0.67668,     0.67768,     0.67868,     0.67968,     0.68068,     0.68168,     0.68268,     0.68368,     0.68468,     0.68569,     0.68669,     0.68769,     0.68869,     0.68969,     0.69069,     0.69169,     0.69269,     0.69369,     0.69469,      0.6957,\n",
       "            0.6967,      0.6977,      0.6987,      0.6997,      0.7007,      0.7017,      0.7027,      0.7037,      0.7047,     0.70571,     0.70671,     0.70771,     0.70871,     0.70971,     0.71071,     0.71171,     0.71271,     0.71371,     0.71471,     0.71572,     0.71672,     0.71772,     0.71872,     0.71972,\n",
       "           0.72072,     0.72172,     0.72272,     0.72372,     0.72472,     0.72573,     0.72673,     0.72773,     0.72873,     0.72973,     0.73073,     0.73173,     0.73273,     0.73373,     0.73473,     0.73574,     0.73674,     0.73774,     0.73874,     0.73974,     0.74074,     0.74174,     0.74274,     0.74374,\n",
       "           0.74474,     0.74575,     0.74675,     0.74775,     0.74875,     0.74975,     0.75075,     0.75175,     0.75275,     0.75375,     0.75475,     0.75576,     0.75676,     0.75776,     0.75876,     0.75976,     0.76076,     0.76176,     0.76276,     0.76376,     0.76476,     0.76577,     0.76677,     0.76777,\n",
       "           0.76877,     0.76977,     0.77077,     0.77177,     0.77277,     0.77377,     0.77477,     0.77578,     0.77678,     0.77778,     0.77878,     0.77978,     0.78078,     0.78178,     0.78278,     0.78378,     0.78478,     0.78579,     0.78679,     0.78779,     0.78879,     0.78979,     0.79079,     0.79179,\n",
       "           0.79279,     0.79379,     0.79479,      0.7958,      0.7968,      0.7978,      0.7988,      0.7998,      0.8008,      0.8018,      0.8028,      0.8038,      0.8048,     0.80581,     0.80681,     0.80781,     0.80881,     0.80981,     0.81081,     0.81181,     0.81281,     0.81381,     0.81481,     0.81582,\n",
       "           0.81682,     0.81782,     0.81882,     0.81982,     0.82082,     0.82182,     0.82282,     0.82382,     0.82482,     0.82583,     0.82683,     0.82783,     0.82883,     0.82983,     0.83083,     0.83183,     0.83283,     0.83383,     0.83483,     0.83584,     0.83684,     0.83784,     0.83884,     0.83984,\n",
       "           0.84084,     0.84184,     0.84284,     0.84384,     0.84484,     0.84585,     0.84685,     0.84785,     0.84885,     0.84985,     0.85085,     0.85185,     0.85285,     0.85385,     0.85485,     0.85586,     0.85686,     0.85786,     0.85886,     0.85986,     0.86086,     0.86186,     0.86286,     0.86386,\n",
       "           0.86486,     0.86587,     0.86687,     0.86787,     0.86887,     0.86987,     0.87087,     0.87187,     0.87287,     0.87387,     0.87487,     0.87588,     0.87688,     0.87788,     0.87888,     0.87988,     0.88088,     0.88188,     0.88288,     0.88388,     0.88488,     0.88589,     0.88689,     0.88789,\n",
       "           0.88889,     0.88989,     0.89089,     0.89189,     0.89289,     0.89389,     0.89489,      0.8959,      0.8969,      0.8979,      0.8989,      0.8999,      0.9009,      0.9019,      0.9029,      0.9039,      0.9049,     0.90591,     0.90691,     0.90791,     0.90891,     0.90991,     0.91091,     0.91191,\n",
       "           0.91291,     0.91391,     0.91491,     0.91592,     0.91692,     0.91792,     0.91892,     0.91992,     0.92092,     0.92192,     0.92292,     0.92392,     0.92492,     0.92593,     0.92693,     0.92793,     0.92893,     0.92993,     0.93093,     0.93193,     0.93293,     0.93393,     0.93493,     0.93594,\n",
       "           0.93694,     0.93794,     0.93894,     0.93994,     0.94094,     0.94194,     0.94294,     0.94394,     0.94494,     0.94595,     0.94695,     0.94795,     0.94895,     0.94995,     0.95095,     0.95195,     0.95295,     0.95395,     0.95495,     0.95596,     0.95696,     0.95796,     0.95896,     0.95996,\n",
       "           0.96096,     0.96196,     0.96296,     0.96396,     0.96496,     0.96597,     0.96697,     0.96797,     0.96897,     0.96997,     0.97097,     0.97197,     0.97297,     0.97397,     0.97497,     0.97598,     0.97698,     0.97798,     0.97898,     0.97998,     0.98098,     0.98198,     0.98298,     0.98398,\n",
       "           0.98498,     0.98599,     0.98699,     0.98799,     0.98899,     0.98999,     0.99099,     0.99199,     0.99299,     0.99399,     0.99499,       0.996,       0.997,       0.998,       0.999,           1]), array([[          1,           1,           1,           1,           1,           1,           1,           1,           1,           1,           1,           1,           1,           1,           1,           1,           1,           1,           1,           1,           1,           1,           1,\n",
       "                  1,           1,           1,           1,           1,           1,           1,           1,           1,           1,           1,           1,           1,           1,           1,           1,           1,           1,           1,           1,           1,           1,           1,\n",
       "                  1,           1,           1,           1,           1,           1,           1,           1,           1,           1,           1,           1,           1,           1,           1,           1,           1,           1,           1,           1,           1,           1,           1,\n",
       "                  1,           1,           1,           1,           1,           1,           1,           1,           1,           1,           1,           1,           1,           1,           1,           1,           1,           1,           1,           1,           1,           1,           1,\n",
       "                  1,           1,           1,           1,           1,           1,           1,           1,           1,           1,           1,           1,           1,           1,           1,           1,           1,           1,           1,           1,           1,           1,           1,\n",
       "                  1,           1,           1,           1,           1,           1,           1,           1,           1,           1,           1,           1,           1,           1,           1,           1,           1,           1,           1,           1,           1,           1,           1,\n",
       "                  1,           1,           1,           1,           1,           1,           1,           1,           1,           1,           1,           1,           1,           1,           1,           1,           1,           1,           1,           1,           1,           1,           1,\n",
       "                  1,           1,           1,           1,           1,           1,           1,           1,           1,           1,           1,           1,           1,           1,           1,           1,           1,           1,           1,           1,           1,           1,           1,\n",
       "                  1,           1,           1,           1,           1,           1,           1,           1,           1,           1,           1,           1,           1,           1,           1,           1,           1,           1,           1,           1,           1,           1,           1,\n",
       "                  1,           1,           1,           1,           1,           1,           1,           1,           1,           1,           1,           1,           1,           1,           1,           1,           1,           1,           1,           1,           1,           1,           1,\n",
       "                  1,           1,           1,           1,           1,           1,           1,           1,           1,           1,           1,           1,           1,           1,           1,           1,           1,           1,           1,           1,           1,           1,           1,\n",
       "                  1,           1,           1,           1,           1,           1,           1,           1,           1,           1,           1,           1,           1,           1,           1,           1,           1,           1,           1,           1,           1,           1,           1,\n",
       "                  1,           1,           1,           1,           1,           1,           1,           1,           1,           1,           1,           1,           1,           1,           1,           1,           1,           1,           1,           1,           1,           1,           1,\n",
       "                  1,           1,           1,           1,           1,           1,           1,           1,           1,           1,           1,           1,           1,           1,           1,           1,           1,           1,           1,           1,           1,           1,           1,\n",
       "                  1,           1,           1,           1,           1,           1,           1,           1,           1,           1,           1,           1,           1,           1,           1,           1,           1,           1,           1,           1,           1,           1,           1,\n",
       "                  1,           1,           1,           1,           1,           1,           1,           1,           1,           1,           1,           1,           1,           1,           1,           1,           1,           1,           1,           1,           1,           1,           1,\n",
       "                  1,           1,           1,           1,           1,           1,           1,           1,           1,           1,           1,           1,           1,           1,           1,           1,           1,           1,           1,           1,           1,           1,           1,\n",
       "                  1,           1,           1,           1,           1,           1,           1,           1,           1,           1,           1,           1,           1,           1,           1,           1,           1,           1,           1,           1,           1,           1,           1,\n",
       "                  1,           1,           1,           1,           1,           1,           1,           1,           1,           1,           1,           1,           1,           1,           1,         0.8,         0.8,         0.8,         0.8,         0.8,         0.8,         0.8,         0.8,\n",
       "                0.8,         0.8,         0.8,         0.8,         0.8,         0.8,         0.8,         0.8,         0.8,         0.8,         0.8,         0.8,         0.8,         0.8,         0.8,         0.8,         0.8,         0.8,         0.8,         0.8,         0.8,         0.8,         0.8,\n",
       "                0.8,         0.8,         0.8,         0.8,         0.8,         0.8,         0.8,         0.8,         0.8,         0.8,         0.8,         0.8,         0.8,         0.8,         0.8,         0.8,         0.8,         0.8,         0.8,         0.8,         0.8,         0.8,         0.8,\n",
       "                0.8,         0.8,         0.8,         0.8,         0.8,         0.8,         0.8,         0.8,         0.8,         0.8,         0.8,         0.8,         0.8,         0.8,         0.8,         0.8,         0.8,         0.8,         0.8,         0.8,         0.8,         0.8,         0.8,\n",
       "                0.8,         0.8,         0.8,         0.8,         0.8,         0.8,         0.8,         0.8,         0.8,         0.8,         0.8,         0.8,         0.8,         0.8,         0.8,         0.8,         0.8,         0.8,         0.8,         0.8,         0.8,         0.8,         0.8,\n",
       "                0.8,         0.8,         0.8,         0.8,         0.8,         0.8,         0.8,         0.8,         0.8,         0.8,         0.8,         0.8,         0.8,         0.8,         0.8,         0.8,         0.8,         0.8,         0.8,         0.8,         0.8,         0.8,         0.8,\n",
       "                0.8,         0.8,         0.8,         0.8,         0.8,         0.8,         0.8,         0.8,         0.8,         0.8,         0.8,         0.8,         0.8,         0.8,         0.8,         0.8,         0.8,         0.8,         0.8,       0.625,       0.625,       0.625,       0.625,\n",
       "              0.625,       0.625,       0.625,       0.625,       0.625,       0.625,       0.625,       0.625,       0.625,       0.625,       0.625,       0.625,       0.625,       0.625,       0.625,       0.625,       0.625,       0.625,       0.625,       0.625,       0.625,       0.625,       0.625,\n",
       "              0.625,       0.625,       0.625,       0.625,       0.625,       0.625,       0.625,       0.625,       0.625,       0.625,       0.625,       0.625,       0.625,       0.625,       0.625,       0.625,       0.625,       0.625,       0.625,       0.625,       0.625,       0.625,       0.625,\n",
       "              0.625,       0.625,       0.625,       0.625,       0.625,       0.625,       0.625,       0.625,       0.625,       0.625,       0.625,       0.625,       0.625,       0.625,       0.625,       0.625,       0.625,       0.625,       0.625,       0.625,       0.625,       0.625,       0.625,\n",
       "              0.625,       0.625,       0.625,       0.625,       0.625,       0.625,       0.625,       0.625,       0.625,       0.625,       0.625,       0.625,       0.625,       0.625,       0.625,       0.625,       0.625,       0.625,       0.625,       0.625,       0.625,       0.625,       0.625,\n",
       "              0.625,       0.625,       0.625,       0.625,       0.625,       0.625,       0.625,       0.625,       0.625,       0.625,       0.625,       0.625,       0.625,       0.625,       0.625,       0.625,       0.625,       0.625,       0.625,       0.625,       0.625,       0.625,       0.625,\n",
       "              0.625,       0.625,       0.625,       0.625,       0.625,       0.625,       0.625,       0.625,       0.625,       0.625,       0.625,       0.625,       0.625,       0.625,       0.625,       0.625,       0.625,       0.625,       0.625,       0.625,       0.625,       0.625,       0.625,\n",
       "              0.625,     0.31579,     0.31579,     0.31579,     0.31579,     0.31579,     0.31579,     0.31579,     0.31579,     0.31579,     0.31579,     0.31579,     0.31579,     0.31579,     0.31579,     0.31579,     0.31579,     0.31579,     0.31579,     0.31579,     0.31579,     0.31579,     0.31579,\n",
       "            0.31579,     0.31579,     0.31579,     0.31579,     0.31579,     0.31579,     0.31579,     0.31579,     0.31579,     0.31579,     0.31579,     0.31579,     0.31579,     0.31579,     0.31579,     0.31579,     0.31579,     0.31579,     0.31579,     0.31579,     0.31579,     0.31579,     0.31579,\n",
       "            0.31579,     0.31579,     0.31579,     0.31579,     0.31579,     0.31579,     0.31579,     0.31579,     0.31579,     0.31579,     0.31579,     0.31579,     0.31579,     0.31579,     0.31579,     0.31579,     0.31579,     0.31579,     0.31579,     0.31579,     0.31579,     0.31579,     0.31579,\n",
       "            0.31579,     0.31579,     0.31579,     0.31579,     0.31579,     0.31579,     0.31579,     0.31579,     0.31579,     0.31579,     0.31579,     0.31579,     0.31579,     0.31579,     0.31579,     0.31579,     0.31579,     0.31579,     0.31579,     0.31579,     0.31579,     0.31579,     0.31579,\n",
       "            0.31579,     0.31579,     0.31579,     0.31579,     0.31579,     0.31579,     0.31579,     0.31579,     0.31579,     0.31579,     0.31579,     0.31579,     0.31579,     0.31579,     0.31579,     0.31579,     0.31579,     0.31579,     0.31579,     0.31579,     0.31579,     0.31579,     0.31579,\n",
       "            0.31579,     0.31579,     0.31579,     0.31579,     0.31579,     0.31579,     0.31579,     0.31579,     0.31579,     0.31579,     0.31579,     0.31579,     0.31579,     0.31579,     0.31579,     0.31579,     0.31579,     0.31579,     0.31579,     0.31579,     0.31579,     0.31579,     0.31579,\n",
       "            0.31579,     0.31579,     0.31579,     0.31579,     0.31579,     0.31579,   0.0069376,   0.0069376,   0.0069376,   0.0069376,   0.0069376,   0.0069376,   0.0069376,   0.0069376,   0.0069376,   0.0069376,   0.0069376,   0.0069376,   0.0069376,   0.0069376,   0.0069376,   0.0069376,   0.0069376,\n",
       "          0.0069376,   0.0069376,   0.0069376,   0.0069376,   0.0069376,   0.0069376,   0.0069376,   0.0069376,   0.0069376,   0.0069376,   0.0069376,   0.0069376,   0.0069376,   0.0069376,   0.0069376,   0.0069376,   0.0069376,   0.0069376,   0.0069376,   0.0069376,   0.0069376,   0.0069376,   0.0069376,\n",
       "          0.0069376,   0.0069376,   0.0069376,   0.0069376,   0.0069376,   0.0069376,   0.0069376,   0.0069376,   0.0069376,   0.0069376,   0.0069376,   0.0069376,   0.0069376,   0.0069376,   0.0069376,   0.0069376,   0.0069376,   0.0069376,   0.0069376,   0.0069376,   0.0069376,   0.0069376,   0.0069376,\n",
       "          0.0069376,   0.0069376,   0.0069376,   0.0069376,   0.0069376,   0.0069376,   0.0069376,   0.0069376,   0.0069376,   0.0069376,   0.0069376,   0.0069376,   0.0069376,   0.0069376,   0.0069376,   0.0069376,   0.0069376,   0.0069376,   0.0069376,   0.0069376,   0.0069376,   0.0069376,   0.0069376,\n",
       "          0.0069376,   0.0069376,   0.0069376,   0.0069376,   0.0069376,   0.0069376,   0.0069376,   0.0069376,   0.0069376,   0.0069376,   0.0069376,   0.0069376,   0.0069376,   0.0069376,   0.0069376,   0.0069376,   0.0069376,   0.0069376,   0.0069376,   0.0069376,   0.0069376,   0.0069376,   0.0069376,\n",
       "          0.0069376,   0.0069376,   0.0069376,   0.0069376,   0.0069376,   0.0069376,   0.0069376,   0.0069376,   0.0069376,   0.0069376,   0.0069376,   0.0069376,   0.0069376,   0.0069376,   0.0069376,   0.0069376,   0.0069376,   0.0069376,   0.0069376,   0.0069376,   0.0069376,   0.0069376,   0.0069376,\n",
       "          0.0069376,   0.0069376,   0.0069376,   0.0069376,   0.0069376,   0.0069376,   0.0069376,   0.0069376,   0.0069376,   0.0069376,           0]]), 'Recall', 'Precision'], [array([          0,    0.001001,    0.002002,    0.003003,    0.004004,    0.005005,    0.006006,    0.007007,    0.008008,    0.009009,     0.01001,    0.011011,    0.012012,    0.013013,    0.014014,    0.015015,    0.016016,    0.017017,    0.018018,    0.019019,     0.02002,    0.021021,    0.022022,    0.023023,\n",
       "          0.024024,    0.025025,    0.026026,    0.027027,    0.028028,    0.029029,     0.03003,    0.031031,    0.032032,    0.033033,    0.034034,    0.035035,    0.036036,    0.037037,    0.038038,    0.039039,     0.04004,    0.041041,    0.042042,    0.043043,    0.044044,    0.045045,    0.046046,    0.047047,\n",
       "          0.048048,    0.049049,     0.05005,    0.051051,    0.052052,    0.053053,    0.054054,    0.055055,    0.056056,    0.057057,    0.058058,    0.059059,     0.06006,    0.061061,    0.062062,    0.063063,    0.064064,    0.065065,    0.066066,    0.067067,    0.068068,    0.069069,     0.07007,    0.071071,\n",
       "          0.072072,    0.073073,    0.074074,    0.075075,    0.076076,    0.077077,    0.078078,    0.079079,     0.08008,    0.081081,    0.082082,    0.083083,    0.084084,    0.085085,    0.086086,    0.087087,    0.088088,    0.089089,     0.09009,    0.091091,    0.092092,    0.093093,    0.094094,    0.095095,\n",
       "          0.096096,    0.097097,    0.098098,    0.099099,      0.1001,      0.1011,      0.1021,      0.1031,      0.1041,     0.10511,     0.10611,     0.10711,     0.10811,     0.10911,     0.11011,     0.11111,     0.11211,     0.11311,     0.11411,     0.11512,     0.11612,     0.11712,     0.11812,     0.11912,\n",
       "           0.12012,     0.12112,     0.12212,     0.12312,     0.12412,     0.12513,     0.12613,     0.12713,     0.12813,     0.12913,     0.13013,     0.13113,     0.13213,     0.13313,     0.13413,     0.13514,     0.13614,     0.13714,     0.13814,     0.13914,     0.14014,     0.14114,     0.14214,     0.14314,\n",
       "           0.14414,     0.14515,     0.14615,     0.14715,     0.14815,     0.14915,     0.15015,     0.15115,     0.15215,     0.15315,     0.15415,     0.15516,     0.15616,     0.15716,     0.15816,     0.15916,     0.16016,     0.16116,     0.16216,     0.16316,     0.16416,     0.16517,     0.16617,     0.16717,\n",
       "           0.16817,     0.16917,     0.17017,     0.17117,     0.17217,     0.17317,     0.17417,     0.17518,     0.17618,     0.17718,     0.17818,     0.17918,     0.18018,     0.18118,     0.18218,     0.18318,     0.18418,     0.18519,     0.18619,     0.18719,     0.18819,     0.18919,     0.19019,     0.19119,\n",
       "           0.19219,     0.19319,     0.19419,      0.1952,      0.1962,      0.1972,      0.1982,      0.1992,      0.2002,      0.2012,      0.2022,      0.2032,      0.2042,     0.20521,     0.20621,     0.20721,     0.20821,     0.20921,     0.21021,     0.21121,     0.21221,     0.21321,     0.21421,     0.21522,\n",
       "           0.21622,     0.21722,     0.21822,     0.21922,     0.22022,     0.22122,     0.22222,     0.22322,     0.22422,     0.22523,     0.22623,     0.22723,     0.22823,     0.22923,     0.23023,     0.23123,     0.23223,     0.23323,     0.23423,     0.23524,     0.23624,     0.23724,     0.23824,     0.23924,\n",
       "           0.24024,     0.24124,     0.24224,     0.24324,     0.24424,     0.24525,     0.24625,     0.24725,     0.24825,     0.24925,     0.25025,     0.25125,     0.25225,     0.25325,     0.25425,     0.25526,     0.25626,     0.25726,     0.25826,     0.25926,     0.26026,     0.26126,     0.26226,     0.26326,\n",
       "           0.26426,     0.26527,     0.26627,     0.26727,     0.26827,     0.26927,     0.27027,     0.27127,     0.27227,     0.27327,     0.27427,     0.27528,     0.27628,     0.27728,     0.27828,     0.27928,     0.28028,     0.28128,     0.28228,     0.28328,     0.28428,     0.28529,     0.28629,     0.28729,\n",
       "           0.28829,     0.28929,     0.29029,     0.29129,     0.29229,     0.29329,     0.29429,      0.2953,      0.2963,      0.2973,      0.2983,      0.2993,      0.3003,      0.3013,      0.3023,      0.3033,      0.3043,     0.30531,     0.30631,     0.30731,     0.30831,     0.30931,     0.31031,     0.31131,\n",
       "           0.31231,     0.31331,     0.31431,     0.31532,     0.31632,     0.31732,     0.31832,     0.31932,     0.32032,     0.32132,     0.32232,     0.32332,     0.32432,     0.32533,     0.32633,     0.32733,     0.32833,     0.32933,     0.33033,     0.33133,     0.33233,     0.33333,     0.33433,     0.33534,\n",
       "           0.33634,     0.33734,     0.33834,     0.33934,     0.34034,     0.34134,     0.34234,     0.34334,     0.34434,     0.34535,     0.34635,     0.34735,     0.34835,     0.34935,     0.35035,     0.35135,     0.35235,     0.35335,     0.35435,     0.35536,     0.35636,     0.35736,     0.35836,     0.35936,\n",
       "           0.36036,     0.36136,     0.36236,     0.36336,     0.36436,     0.36537,     0.36637,     0.36737,     0.36837,     0.36937,     0.37037,     0.37137,     0.37237,     0.37337,     0.37437,     0.37538,     0.37638,     0.37738,     0.37838,     0.37938,     0.38038,     0.38138,     0.38238,     0.38338,\n",
       "           0.38438,     0.38539,     0.38639,     0.38739,     0.38839,     0.38939,     0.39039,     0.39139,     0.39239,     0.39339,     0.39439,      0.3954,      0.3964,      0.3974,      0.3984,      0.3994,      0.4004,      0.4014,      0.4024,      0.4034,      0.4044,     0.40541,     0.40641,     0.40741,\n",
       "           0.40841,     0.40941,     0.41041,     0.41141,     0.41241,     0.41341,     0.41441,     0.41542,     0.41642,     0.41742,     0.41842,     0.41942,     0.42042,     0.42142,     0.42242,     0.42342,     0.42442,     0.42543,     0.42643,     0.42743,     0.42843,     0.42943,     0.43043,     0.43143,\n",
       "           0.43243,     0.43343,     0.43443,     0.43544,     0.43644,     0.43744,     0.43844,     0.43944,     0.44044,     0.44144,     0.44244,     0.44344,     0.44444,     0.44545,     0.44645,     0.44745,     0.44845,     0.44945,     0.45045,     0.45145,     0.45245,     0.45345,     0.45445,     0.45546,\n",
       "           0.45646,     0.45746,     0.45846,     0.45946,     0.46046,     0.46146,     0.46246,     0.46346,     0.46446,     0.46547,     0.46647,     0.46747,     0.46847,     0.46947,     0.47047,     0.47147,     0.47247,     0.47347,     0.47447,     0.47548,     0.47648,     0.47748,     0.47848,     0.47948,\n",
       "           0.48048,     0.48148,     0.48248,     0.48348,     0.48448,     0.48549,     0.48649,     0.48749,     0.48849,     0.48949,     0.49049,     0.49149,     0.49249,     0.49349,     0.49449,      0.4955,      0.4965,      0.4975,      0.4985,      0.4995,      0.5005,      0.5015,      0.5025,      0.5035,\n",
       "            0.5045,     0.50551,     0.50651,     0.50751,     0.50851,     0.50951,     0.51051,     0.51151,     0.51251,     0.51351,     0.51451,     0.51552,     0.51652,     0.51752,     0.51852,     0.51952,     0.52052,     0.52152,     0.52252,     0.52352,     0.52452,     0.52553,     0.52653,     0.52753,\n",
       "           0.52853,     0.52953,     0.53053,     0.53153,     0.53253,     0.53353,     0.53453,     0.53554,     0.53654,     0.53754,     0.53854,     0.53954,     0.54054,     0.54154,     0.54254,     0.54354,     0.54454,     0.54555,     0.54655,     0.54755,     0.54855,     0.54955,     0.55055,     0.55155,\n",
       "           0.55255,     0.55355,     0.55455,     0.55556,     0.55656,     0.55756,     0.55856,     0.55956,     0.56056,     0.56156,     0.56256,     0.56356,     0.56456,     0.56557,     0.56657,     0.56757,     0.56857,     0.56957,     0.57057,     0.57157,     0.57257,     0.57357,     0.57457,     0.57558,\n",
       "           0.57658,     0.57758,     0.57858,     0.57958,     0.58058,     0.58158,     0.58258,     0.58358,     0.58458,     0.58559,     0.58659,     0.58759,     0.58859,     0.58959,     0.59059,     0.59159,     0.59259,     0.59359,     0.59459,      0.5956,      0.5966,      0.5976,      0.5986,      0.5996,\n",
       "            0.6006,      0.6016,      0.6026,      0.6036,      0.6046,     0.60561,     0.60661,     0.60761,     0.60861,     0.60961,     0.61061,     0.61161,     0.61261,     0.61361,     0.61461,     0.61562,     0.61662,     0.61762,     0.61862,     0.61962,     0.62062,     0.62162,     0.62262,     0.62362,\n",
       "           0.62462,     0.62563,     0.62663,     0.62763,     0.62863,     0.62963,     0.63063,     0.63163,     0.63263,     0.63363,     0.63463,     0.63564,     0.63664,     0.63764,     0.63864,     0.63964,     0.64064,     0.64164,     0.64264,     0.64364,     0.64464,     0.64565,     0.64665,     0.64765,\n",
       "           0.64865,     0.64965,     0.65065,     0.65165,     0.65265,     0.65365,     0.65465,     0.65566,     0.65666,     0.65766,     0.65866,     0.65966,     0.66066,     0.66166,     0.66266,     0.66366,     0.66466,     0.66567,     0.66667,     0.66767,     0.66867,     0.66967,     0.67067,     0.67167,\n",
       "           0.67267,     0.67367,     0.67467,     0.67568,     0.67668,     0.67768,     0.67868,     0.67968,     0.68068,     0.68168,     0.68268,     0.68368,     0.68468,     0.68569,     0.68669,     0.68769,     0.68869,     0.68969,     0.69069,     0.69169,     0.69269,     0.69369,     0.69469,      0.6957,\n",
       "            0.6967,      0.6977,      0.6987,      0.6997,      0.7007,      0.7017,      0.7027,      0.7037,      0.7047,     0.70571,     0.70671,     0.70771,     0.70871,     0.70971,     0.71071,     0.71171,     0.71271,     0.71371,     0.71471,     0.71572,     0.71672,     0.71772,     0.71872,     0.71972,\n",
       "           0.72072,     0.72172,     0.72272,     0.72372,     0.72472,     0.72573,     0.72673,     0.72773,     0.72873,     0.72973,     0.73073,     0.73173,     0.73273,     0.73373,     0.73473,     0.73574,     0.73674,     0.73774,     0.73874,     0.73974,     0.74074,     0.74174,     0.74274,     0.74374,\n",
       "           0.74474,     0.74575,     0.74675,     0.74775,     0.74875,     0.74975,     0.75075,     0.75175,     0.75275,     0.75375,     0.75475,     0.75576,     0.75676,     0.75776,     0.75876,     0.75976,     0.76076,     0.76176,     0.76276,     0.76376,     0.76476,     0.76577,     0.76677,     0.76777,\n",
       "           0.76877,     0.76977,     0.77077,     0.77177,     0.77277,     0.77377,     0.77477,     0.77578,     0.77678,     0.77778,     0.77878,     0.77978,     0.78078,     0.78178,     0.78278,     0.78378,     0.78478,     0.78579,     0.78679,     0.78779,     0.78879,     0.78979,     0.79079,     0.79179,\n",
       "           0.79279,     0.79379,     0.79479,      0.7958,      0.7968,      0.7978,      0.7988,      0.7998,      0.8008,      0.8018,      0.8028,      0.8038,      0.8048,     0.80581,     0.80681,     0.80781,     0.80881,     0.80981,     0.81081,     0.81181,     0.81281,     0.81381,     0.81481,     0.81582,\n",
       "           0.81682,     0.81782,     0.81882,     0.81982,     0.82082,     0.82182,     0.82282,     0.82382,     0.82482,     0.82583,     0.82683,     0.82783,     0.82883,     0.82983,     0.83083,     0.83183,     0.83283,     0.83383,     0.83483,     0.83584,     0.83684,     0.83784,     0.83884,     0.83984,\n",
       "           0.84084,     0.84184,     0.84284,     0.84384,     0.84484,     0.84585,     0.84685,     0.84785,     0.84885,     0.84985,     0.85085,     0.85185,     0.85285,     0.85385,     0.85485,     0.85586,     0.85686,     0.85786,     0.85886,     0.85986,     0.86086,     0.86186,     0.86286,     0.86386,\n",
       "           0.86486,     0.86587,     0.86687,     0.86787,     0.86887,     0.86987,     0.87087,     0.87187,     0.87287,     0.87387,     0.87487,     0.87588,     0.87688,     0.87788,     0.87888,     0.87988,     0.88088,     0.88188,     0.88288,     0.88388,     0.88488,     0.88589,     0.88689,     0.88789,\n",
       "           0.88889,     0.88989,     0.89089,     0.89189,     0.89289,     0.89389,     0.89489,      0.8959,      0.8969,      0.8979,      0.8989,      0.8999,      0.9009,      0.9019,      0.9029,      0.9039,      0.9049,     0.90591,     0.90691,     0.90791,     0.90891,     0.90991,     0.91091,     0.91191,\n",
       "           0.91291,     0.91391,     0.91491,     0.91592,     0.91692,     0.91792,     0.91892,     0.91992,     0.92092,     0.92192,     0.92292,     0.92392,     0.92492,     0.92593,     0.92693,     0.92793,     0.92893,     0.92993,     0.93093,     0.93193,     0.93293,     0.93393,     0.93493,     0.93594,\n",
       "           0.93694,     0.93794,     0.93894,     0.93994,     0.94094,     0.94194,     0.94294,     0.94394,     0.94494,     0.94595,     0.94695,     0.94795,     0.94895,     0.94995,     0.95095,     0.95195,     0.95295,     0.95395,     0.95495,     0.95596,     0.95696,     0.95796,     0.95896,     0.95996,\n",
       "           0.96096,     0.96196,     0.96296,     0.96396,     0.96496,     0.96597,     0.96697,     0.96797,     0.96897,     0.96997,     0.97097,     0.97197,     0.97297,     0.97397,     0.97497,     0.97598,     0.97698,     0.97798,     0.97898,     0.97998,     0.98098,     0.98198,     0.98298,     0.98398,\n",
       "           0.98498,     0.98599,     0.98699,     0.98799,     0.98899,     0.98999,     0.99099,     0.99199,     0.99299,     0.99399,     0.99499,       0.996,       0.997,       0.998,       0.999,           1]), array([[  0.0077476,   0.0077476,   0.0077476,    0.011204,    0.012645,    0.012278,    0.015272,      0.0221,    0.036414,    0.066004,    0.090345,     0.10901,     0.13562,     0.14622,     0.17039,     0.18084,     0.18898,     0.20211,     0.20966,     0.23087,     0.24896,     0.25865,      0.2738,\n",
       "            0.27957,     0.29538,     0.31142,      0.3178,     0.32166,     0.32508,     0.32752,     0.32996,     0.33239,     0.33715,     0.34318,      0.3472,     0.35119,     0.35573,     0.36069,     0.36417,     0.36551,     0.36685,     0.36818,     0.36951,     0.37084,     0.37217,     0.37349,\n",
       "            0.37481,     0.39628,     0.40385,     0.40842,     0.41296,     0.41457,     0.41553,     0.41648,     0.41743,     0.41838,     0.41933,     0.42028,     0.42123,     0.42217,     0.42311,     0.42406,       0.425,     0.42594,     0.42687,     0.42781,     0.42974,     0.43597,     0.44214,\n",
       "            0.44541,     0.44695,     0.44848,     0.45002,     0.45154,     0.45307,     0.45459,     0.45611,     0.45762,     0.45913,     0.46064,     0.45971,     0.45517,     0.45062,     0.44608,     0.44153,     0.43698,     0.43243,     0.42787,     0.42331,     0.41875,     0.41418,     0.40962,\n",
       "            0.40505,     0.40047,     0.40083,     0.40176,     0.40268,      0.4036,     0.40453,     0.40544,     0.40636,     0.40728,     0.40819,     0.40911,     0.41002,     0.41093,     0.41183,     0.41274,     0.41365,     0.41455,     0.41545,     0.41635,     0.41685,     0.41712,      0.4174,\n",
       "            0.41768,     0.41795,     0.41823,      0.4185,     0.41878,     0.41906,     0.41933,     0.41961,     0.41988,     0.42016,     0.42043,     0.42071,     0.42098,     0.42126,     0.42153,      0.4218,     0.42208,     0.42235,     0.42263,      0.4229,     0.42317,     0.42345,     0.42372,\n",
       "            0.42399,     0.42427,     0.42454,     0.42481,     0.42508,     0.42536,     0.42563,      0.4259,     0.42617,     0.42644,     0.42672,     0.42699,     0.42726,     0.42753,      0.4278,     0.42807,     0.42834,     0.42861,     0.42888,     0.42915,     0.42942,     0.42969,     0.42996,\n",
       "            0.43023,      0.4305,     0.43077,     0.43104,     0.43131,     0.43158,     0.43185,     0.43212,     0.43238,     0.43265,     0.43292,     0.43319,     0.43346,     0.43372,     0.43399,     0.43426,     0.43453,     0.43481,     0.43557,     0.43632,     0.43707,     0.43782,     0.43856,\n",
       "            0.43931,     0.44006,      0.4408,     0.44154,     0.44228,     0.44302,     0.44376,      0.4445,     0.44524,     0.44598,     0.44671,     0.44745,     0.44818,     0.44891,     0.44964,     0.45037,      0.4511,     0.45183,     0.45255,     0.45328,       0.454,     0.45482,     0.45594,\n",
       "            0.45705,     0.45815,     0.45926,     0.46036,     0.46146,     0.46255,     0.46365,     0.46474,     0.46583,     0.46691,       0.468,     0.46908,     0.47016,     0.47123,     0.47231,     0.47338,     0.47445,     0.47552,     0.47653,     0.47747,      0.4784,     0.47933,     0.48025,\n",
       "            0.48118,      0.4821,     0.48302,     0.48394,     0.48486,     0.48578,     0.48669,     0.48761,     0.48852,     0.48943,     0.49033,     0.49124,     0.49214,     0.49305,     0.49395,     0.49484,     0.49574,     0.49664,     0.49753,     0.49842,     0.49931,     0.50168,     0.50903,\n",
       "            0.51627,     0.52339,     0.53217,       0.542,     0.55162,     0.55728,     0.56022,     0.56315,     0.56605,     0.56893,      0.5718,     0.57464,     0.57747,     0.58027,     0.58306,     0.58583,     0.58829,     0.58873,     0.58917,     0.58962,     0.59006,      0.5905,     0.59093,\n",
       "            0.59137,     0.59181,     0.59225,     0.59269,     0.59312,     0.59356,       0.594,     0.59443,     0.59487,      0.5953,     0.59574,     0.59617,      0.5966,     0.59704,     0.59747,      0.5979,     0.59833,     0.59876,      0.5992,     0.59963,     0.60006,     0.60049,     0.60091,\n",
       "            0.60134,     0.60177,      0.6022,     0.60263,     0.60305,     0.60348,      0.6039,     0.60433,     0.60475,     0.60518,      0.6056,     0.60603,     0.60645,     0.60687,      0.6073,     0.60772,     0.60814,     0.60856,     0.60898,      0.6094,     0.60982,     0.61024,     0.61066,\n",
       "            0.61108,     0.61149,     0.61191,     0.61233,     0.61275,     0.61316,     0.61358,     0.61399,     0.61441,     0.61482,     0.61524,     0.61565,     0.61607,     0.61648,     0.61689,      0.6173,     0.61771,     0.61813,     0.61854,     0.61895,     0.61936,     0.61977,     0.62018,\n",
       "            0.62058,     0.62099,      0.6214,     0.62181,     0.62222,     0.62262,     0.62303,     0.62343,     0.62384,     0.62425,     0.62465,     0.62504,     0.62538,     0.62571,     0.62604,     0.62637,      0.6267,     0.62703,     0.62736,     0.62769,     0.62802,     0.62835,     0.62868,\n",
       "            0.62901,     0.62933,     0.62966,     0.62999,     0.63032,     0.63064,     0.63097,      0.6313,     0.63163,     0.63195,     0.63228,      0.6326,     0.63293,     0.63325,     0.63358,      0.6339,     0.63423,     0.63455,     0.63488,      0.6352,     0.63552,     0.63584,     0.63617,\n",
       "            0.63649,     0.63681,     0.63713,     0.63746,     0.63778,      0.6381,     0.63842,     0.63874,     0.63906,     0.63938,      0.6397,     0.64002,     0.64034,     0.64066,     0.64098,      0.6413,     0.64161,     0.64193,     0.64225,     0.64257,     0.64289,      0.6432,     0.64352,\n",
       "            0.64384,     0.64415,     0.64447,     0.64478,      0.6451,     0.64541,     0.64573,     0.64604,     0.64636,     0.64667,     0.64699,      0.6473,     0.64761,     0.64793,     0.64824,     0.64855,     0.64887,     0.64918,     0.64949,      0.6498,     0.65011,     0.65042,     0.65074,\n",
       "            0.65105,     0.65136,     0.65167,     0.65198,     0.65229,      0.6526,     0.65291,     0.65321,     0.65352,     0.65383,     0.65414,     0.65445,     0.65476,     0.65506,     0.65537,     0.65568,     0.65598,     0.65629,      0.6566,      0.6569,     0.65721,     0.65752,     0.65782,\n",
       "            0.65813,     0.65843,     0.65874,     0.65904,     0.65934,     0.65965,     0.65995,     0.66025,     0.66056,     0.66086,     0.66116,     0.66147,     0.66177,     0.66207,     0.66237,     0.66267,     0.66297,     0.66328,     0.66358,     0.66388,     0.66418,     0.66448,     0.66478,\n",
       "            0.66508,     0.66538,     0.66568,     0.66597,     0.66627,     0.66657,     0.66629,     0.66573,     0.66517,     0.66461,     0.66405,     0.66349,     0.66293,     0.66237,     0.66181,     0.66125,     0.66069,     0.66013,     0.65957,     0.65901,     0.65845,     0.65789,     0.65733,\n",
       "            0.65677,     0.65621,     0.65564,     0.65508,     0.65452,     0.65396,      0.6534,     0.65283,     0.65227,     0.65171,     0.65114,     0.65058,     0.65002,     0.64946,     0.64889,     0.64833,     0.64776,      0.6472,     0.64664,     0.64607,     0.64551,     0.64494,     0.64438,\n",
       "            0.64381,     0.64325,     0.64268,     0.64211,     0.64155,     0.64098,     0.64042,     0.63985,     0.63928,     0.63872,     0.63815,     0.63758,     0.63702,     0.63645,     0.63588,     0.63531,     0.63474,     0.63418,     0.63361,     0.63304,     0.63247,      0.6319,     0.63133,\n",
       "            0.63076,     0.63019,     0.62962,     0.62905,     0.62848,     0.62791,     0.62734,     0.62677,      0.6262,     0.62563,     0.62506,     0.62449,     0.62392,     0.62334,     0.62277,      0.6222,     0.62163,     0.62106,     0.62048,     0.61991,     0.61934,     0.61876,     0.61819,\n",
       "            0.61762,     0.61704,     0.61647,     0.61589,     0.61532,     0.61474,     0.61417,     0.61359,     0.61302,     0.61244,     0.61187,     0.61129,     0.61072,     0.61014,     0.60956,     0.60899,     0.60841,     0.60783,     0.60725,     0.60668,      0.6061,     0.60552,     0.60494,\n",
       "            0.60436,     0.60378,     0.60321,     0.60263,     0.60205,     0.60147,     0.60089,     0.60031,     0.59973,     0.59915,     0.59857,     0.59799,      0.5974,     0.59682,     0.59624,     0.59566,     0.59508,      0.5945,     0.59391,     0.59333,     0.59275,     0.59216,     0.59158,\n",
       "              0.591,     0.59041,     0.58983,     0.58924,     0.58866,     0.58808,     0.58749,     0.58691,     0.58632,     0.58573,     0.58515,     0.58456,     0.58398,     0.58339,      0.5828,     0.58222,     0.58163,     0.58104,     0.58045,     0.57986,     0.57928,     0.57869,      0.5781,\n",
       "            0.57751,     0.57692,     0.57633,     0.57574,     0.57515,     0.57456,     0.57397,     0.57338,     0.57279,      0.5722,     0.57161,     0.57162,      0.5719,     0.57217,     0.57245,     0.57272,       0.573,     0.57327,     0.57355,     0.57382,     0.57409,     0.57437,     0.57464,\n",
       "            0.57491,     0.57519,     0.57546,     0.57573,       0.576,     0.57627,     0.57655,     0.57682,     0.57709,     0.57736,     0.57763,      0.5779,     0.57817,     0.57844,     0.57871,     0.57898,     0.57925,     0.57951,     0.57978,     0.58005,     0.58032,     0.58059,     0.58085,\n",
       "            0.58112,     0.58139,     0.58165,     0.58192,     0.58218,     0.58245,     0.58272,     0.58298,     0.58325,     0.58351,     0.58378,     0.58404,      0.5843,     0.58457,     0.58483,     0.58509,     0.58536,     0.58562,     0.58588,     0.58614,     0.58641,     0.58667,     0.58693,\n",
       "            0.58719,     0.58745,     0.58771,     0.58797,     0.58823,     0.58849,     0.58875,     0.58901,     0.58927,     0.58953,     0.58979,     0.59005,     0.59031,     0.59056,     0.59082,     0.59108,     0.59134,     0.59159,     0.59185,     0.59211,     0.59236,     0.59262,     0.59288,\n",
       "            0.59313,     0.59339,     0.59364,      0.5939,     0.59415,     0.59441,     0.59466,     0.59492,     0.59517,     0.59542,     0.59568,     0.59593,     0.59618,     0.59643,     0.59669,     0.59694,     0.59719,     0.59744,     0.59769,     0.59795,      0.5982,     0.59845,      0.5987,\n",
       "            0.59895,      0.5992,     0.59945,      0.5997,     0.59995,      0.6002,     0.60044,     0.60069,     0.60094,     0.60119,     0.60144,     0.60169,     0.60193,     0.60218,     0.60243,     0.60267,     0.60292,     0.60317,     0.60341,     0.60366,     0.60391,     0.60415,      0.6044,\n",
       "            0.60464,     0.60489,     0.60513,     0.60538,     0.60562,     0.60586,     0.60611,     0.60635,     0.60659,     0.60684,     0.60708,     0.60732,     0.60757,     0.60781,     0.60805,     0.60829,     0.60853,     0.60877,     0.60902,     0.60926,      0.6095,     0.60974,     0.60998,\n",
       "            0.61022,     0.61046,      0.6107,     0.61094,     0.61118,     0.61141,     0.61165,     0.61189,     0.61213,     0.61237,     0.61261,     0.61284,     0.61308,     0.61332,     0.61356,     0.61379,     0.61403,     0.61427,      0.6145,     0.61474,     0.61497,     0.61521,     0.61624,\n",
       "            0.61959,      0.6229,     0.62616,     0.62939,     0.63257,     0.63572,     0.63883,      0.6419,     0.64493,     0.64793,     0.65089,     0.65381,      0.6567,     0.65956,     0.66238,     0.66517,      0.6662,     0.66518,     0.66416,     0.66314,     0.66211,     0.66109,     0.66007,\n",
       "            0.65904,     0.65802,     0.65699,     0.65596,     0.65493,      0.6539,     0.65287,     0.65184,     0.65081,     0.64977,     0.64874,      0.6477,     0.64667,     0.64563,     0.64459,     0.64355,     0.64251,     0.64147,     0.64043,     0.63938,     0.63834,     0.63729,     0.63625,\n",
       "             0.6352,     0.63415,      0.6331,     0.63205,       0.631,     0.62995,     0.62889,     0.62784,     0.62678,     0.62573,     0.62467,     0.62361,     0.62255,     0.62149,     0.62043,     0.61936,      0.6183,     0.61724,     0.61617,      0.6151,     0.61403,     0.61296,     0.61189,\n",
       "            0.61082,     0.60975,     0.60867,      0.6076,     0.60652,     0.60545,     0.60437,     0.60329,     0.60221,     0.60113,     0.60004,     0.59896,     0.59787,     0.59679,      0.5957,     0.59461,     0.59352,     0.59243,     0.59134,     0.59024,     0.58915,     0.58805,     0.58696,\n",
       "            0.58586,     0.58476,     0.58366,     0.58255,     0.58145,     0.58035,     0.57924,     0.57813,     0.57703,     0.57592,      0.5748,     0.57369,     0.57258,     0.57146,     0.57035,     0.56923,     0.56811,     0.56699,     0.56587,     0.56475,     0.56363,      0.5625,     0.56137,\n",
       "            0.56025,     0.55912,     0.55799,     0.55686,     0.55572,     0.55459,     0.55345,     0.55231,     0.55118,     0.55004,     0.54889,     0.54775,     0.54661,     0.54546,     0.54783,     0.55019,      0.5525,     0.55479,     0.55704,     0.55926,     0.56144,      0.5636,     0.56572,\n",
       "            0.56781,     0.56987,      0.5719,     0.57391,     0.57588,     0.57783,     0.57975,     0.58165,     0.58352,     0.58536,     0.58718,     0.58898,     0.59075,      0.5925,     0.59422,     0.59593,     0.59761,     0.59927,     0.58468,     0.55625,     0.52666,     0.49583,     0.46368,\n",
       "            0.42147,     0.36414,      0.3025,           0,           0,           0,           0,           0,           0,           0,           0]]), 'Confidence', 'F1'], [array([          0,    0.001001,    0.002002,    0.003003,    0.004004,    0.005005,    0.006006,    0.007007,    0.008008,    0.009009,     0.01001,    0.011011,    0.012012,    0.013013,    0.014014,    0.015015,    0.016016,    0.017017,    0.018018,    0.019019,     0.02002,    0.021021,    0.022022,    0.023023,\n",
       "          0.024024,    0.025025,    0.026026,    0.027027,    0.028028,    0.029029,     0.03003,    0.031031,    0.032032,    0.033033,    0.034034,    0.035035,    0.036036,    0.037037,    0.038038,    0.039039,     0.04004,    0.041041,    0.042042,    0.043043,    0.044044,    0.045045,    0.046046,    0.047047,\n",
       "          0.048048,    0.049049,     0.05005,    0.051051,    0.052052,    0.053053,    0.054054,    0.055055,    0.056056,    0.057057,    0.058058,    0.059059,     0.06006,    0.061061,    0.062062,    0.063063,    0.064064,    0.065065,    0.066066,    0.067067,    0.068068,    0.069069,     0.07007,    0.071071,\n",
       "          0.072072,    0.073073,    0.074074,    0.075075,    0.076076,    0.077077,    0.078078,    0.079079,     0.08008,    0.081081,    0.082082,    0.083083,    0.084084,    0.085085,    0.086086,    0.087087,    0.088088,    0.089089,     0.09009,    0.091091,    0.092092,    0.093093,    0.094094,    0.095095,\n",
       "          0.096096,    0.097097,    0.098098,    0.099099,      0.1001,      0.1011,      0.1021,      0.1031,      0.1041,     0.10511,     0.10611,     0.10711,     0.10811,     0.10911,     0.11011,     0.11111,     0.11211,     0.11311,     0.11411,     0.11512,     0.11612,     0.11712,     0.11812,     0.11912,\n",
       "           0.12012,     0.12112,     0.12212,     0.12312,     0.12412,     0.12513,     0.12613,     0.12713,     0.12813,     0.12913,     0.13013,     0.13113,     0.13213,     0.13313,     0.13413,     0.13514,     0.13614,     0.13714,     0.13814,     0.13914,     0.14014,     0.14114,     0.14214,     0.14314,\n",
       "           0.14414,     0.14515,     0.14615,     0.14715,     0.14815,     0.14915,     0.15015,     0.15115,     0.15215,     0.15315,     0.15415,     0.15516,     0.15616,     0.15716,     0.15816,     0.15916,     0.16016,     0.16116,     0.16216,     0.16316,     0.16416,     0.16517,     0.16617,     0.16717,\n",
       "           0.16817,     0.16917,     0.17017,     0.17117,     0.17217,     0.17317,     0.17417,     0.17518,     0.17618,     0.17718,     0.17818,     0.17918,     0.18018,     0.18118,     0.18218,     0.18318,     0.18418,     0.18519,     0.18619,     0.18719,     0.18819,     0.18919,     0.19019,     0.19119,\n",
       "           0.19219,     0.19319,     0.19419,      0.1952,      0.1962,      0.1972,      0.1982,      0.1992,      0.2002,      0.2012,      0.2022,      0.2032,      0.2042,     0.20521,     0.20621,     0.20721,     0.20821,     0.20921,     0.21021,     0.21121,     0.21221,     0.21321,     0.21421,     0.21522,\n",
       "           0.21622,     0.21722,     0.21822,     0.21922,     0.22022,     0.22122,     0.22222,     0.22322,     0.22422,     0.22523,     0.22623,     0.22723,     0.22823,     0.22923,     0.23023,     0.23123,     0.23223,     0.23323,     0.23423,     0.23524,     0.23624,     0.23724,     0.23824,     0.23924,\n",
       "           0.24024,     0.24124,     0.24224,     0.24324,     0.24424,     0.24525,     0.24625,     0.24725,     0.24825,     0.24925,     0.25025,     0.25125,     0.25225,     0.25325,     0.25425,     0.25526,     0.25626,     0.25726,     0.25826,     0.25926,     0.26026,     0.26126,     0.26226,     0.26326,\n",
       "           0.26426,     0.26527,     0.26627,     0.26727,     0.26827,     0.26927,     0.27027,     0.27127,     0.27227,     0.27327,     0.27427,     0.27528,     0.27628,     0.27728,     0.27828,     0.27928,     0.28028,     0.28128,     0.28228,     0.28328,     0.28428,     0.28529,     0.28629,     0.28729,\n",
       "           0.28829,     0.28929,     0.29029,     0.29129,     0.29229,     0.29329,     0.29429,      0.2953,      0.2963,      0.2973,      0.2983,      0.2993,      0.3003,      0.3013,      0.3023,      0.3033,      0.3043,     0.30531,     0.30631,     0.30731,     0.30831,     0.30931,     0.31031,     0.31131,\n",
       "           0.31231,     0.31331,     0.31431,     0.31532,     0.31632,     0.31732,     0.31832,     0.31932,     0.32032,     0.32132,     0.32232,     0.32332,     0.32432,     0.32533,     0.32633,     0.32733,     0.32833,     0.32933,     0.33033,     0.33133,     0.33233,     0.33333,     0.33433,     0.33534,\n",
       "           0.33634,     0.33734,     0.33834,     0.33934,     0.34034,     0.34134,     0.34234,     0.34334,     0.34434,     0.34535,     0.34635,     0.34735,     0.34835,     0.34935,     0.35035,     0.35135,     0.35235,     0.35335,     0.35435,     0.35536,     0.35636,     0.35736,     0.35836,     0.35936,\n",
       "           0.36036,     0.36136,     0.36236,     0.36336,     0.36436,     0.36537,     0.36637,     0.36737,     0.36837,     0.36937,     0.37037,     0.37137,     0.37237,     0.37337,     0.37437,     0.37538,     0.37638,     0.37738,     0.37838,     0.37938,     0.38038,     0.38138,     0.38238,     0.38338,\n",
       "           0.38438,     0.38539,     0.38639,     0.38739,     0.38839,     0.38939,     0.39039,     0.39139,     0.39239,     0.39339,     0.39439,      0.3954,      0.3964,      0.3974,      0.3984,      0.3994,      0.4004,      0.4014,      0.4024,      0.4034,      0.4044,     0.40541,     0.40641,     0.40741,\n",
       "           0.40841,     0.40941,     0.41041,     0.41141,     0.41241,     0.41341,     0.41441,     0.41542,     0.41642,     0.41742,     0.41842,     0.41942,     0.42042,     0.42142,     0.42242,     0.42342,     0.42442,     0.42543,     0.42643,     0.42743,     0.42843,     0.42943,     0.43043,     0.43143,\n",
       "           0.43243,     0.43343,     0.43443,     0.43544,     0.43644,     0.43744,     0.43844,     0.43944,     0.44044,     0.44144,     0.44244,     0.44344,     0.44444,     0.44545,     0.44645,     0.44745,     0.44845,     0.44945,     0.45045,     0.45145,     0.45245,     0.45345,     0.45445,     0.45546,\n",
       "           0.45646,     0.45746,     0.45846,     0.45946,     0.46046,     0.46146,     0.46246,     0.46346,     0.46446,     0.46547,     0.46647,     0.46747,     0.46847,     0.46947,     0.47047,     0.47147,     0.47247,     0.47347,     0.47447,     0.47548,     0.47648,     0.47748,     0.47848,     0.47948,\n",
       "           0.48048,     0.48148,     0.48248,     0.48348,     0.48448,     0.48549,     0.48649,     0.48749,     0.48849,     0.48949,     0.49049,     0.49149,     0.49249,     0.49349,     0.49449,      0.4955,      0.4965,      0.4975,      0.4985,      0.4995,      0.5005,      0.5015,      0.5025,      0.5035,\n",
       "            0.5045,     0.50551,     0.50651,     0.50751,     0.50851,     0.50951,     0.51051,     0.51151,     0.51251,     0.51351,     0.51451,     0.51552,     0.51652,     0.51752,     0.51852,     0.51952,     0.52052,     0.52152,     0.52252,     0.52352,     0.52452,     0.52553,     0.52653,     0.52753,\n",
       "           0.52853,     0.52953,     0.53053,     0.53153,     0.53253,     0.53353,     0.53453,     0.53554,     0.53654,     0.53754,     0.53854,     0.53954,     0.54054,     0.54154,     0.54254,     0.54354,     0.54454,     0.54555,     0.54655,     0.54755,     0.54855,     0.54955,     0.55055,     0.55155,\n",
       "           0.55255,     0.55355,     0.55455,     0.55556,     0.55656,     0.55756,     0.55856,     0.55956,     0.56056,     0.56156,     0.56256,     0.56356,     0.56456,     0.56557,     0.56657,     0.56757,     0.56857,     0.56957,     0.57057,     0.57157,     0.57257,     0.57357,     0.57457,     0.57558,\n",
       "           0.57658,     0.57758,     0.57858,     0.57958,     0.58058,     0.58158,     0.58258,     0.58358,     0.58458,     0.58559,     0.58659,     0.58759,     0.58859,     0.58959,     0.59059,     0.59159,     0.59259,     0.59359,     0.59459,      0.5956,      0.5966,      0.5976,      0.5986,      0.5996,\n",
       "            0.6006,      0.6016,      0.6026,      0.6036,      0.6046,     0.60561,     0.60661,     0.60761,     0.60861,     0.60961,     0.61061,     0.61161,     0.61261,     0.61361,     0.61461,     0.61562,     0.61662,     0.61762,     0.61862,     0.61962,     0.62062,     0.62162,     0.62262,     0.62362,\n",
       "           0.62462,     0.62563,     0.62663,     0.62763,     0.62863,     0.62963,     0.63063,     0.63163,     0.63263,     0.63363,     0.63463,     0.63564,     0.63664,     0.63764,     0.63864,     0.63964,     0.64064,     0.64164,     0.64264,     0.64364,     0.64464,     0.64565,     0.64665,     0.64765,\n",
       "           0.64865,     0.64965,     0.65065,     0.65165,     0.65265,     0.65365,     0.65465,     0.65566,     0.65666,     0.65766,     0.65866,     0.65966,     0.66066,     0.66166,     0.66266,     0.66366,     0.66466,     0.66567,     0.66667,     0.66767,     0.66867,     0.66967,     0.67067,     0.67167,\n",
       "           0.67267,     0.67367,     0.67467,     0.67568,     0.67668,     0.67768,     0.67868,     0.67968,     0.68068,     0.68168,     0.68268,     0.68368,     0.68468,     0.68569,     0.68669,     0.68769,     0.68869,     0.68969,     0.69069,     0.69169,     0.69269,     0.69369,     0.69469,      0.6957,\n",
       "            0.6967,      0.6977,      0.6987,      0.6997,      0.7007,      0.7017,      0.7027,      0.7037,      0.7047,     0.70571,     0.70671,     0.70771,     0.70871,     0.70971,     0.71071,     0.71171,     0.71271,     0.71371,     0.71471,     0.71572,     0.71672,     0.71772,     0.71872,     0.71972,\n",
       "           0.72072,     0.72172,     0.72272,     0.72372,     0.72472,     0.72573,     0.72673,     0.72773,     0.72873,     0.72973,     0.73073,     0.73173,     0.73273,     0.73373,     0.73473,     0.73574,     0.73674,     0.73774,     0.73874,     0.73974,     0.74074,     0.74174,     0.74274,     0.74374,\n",
       "           0.74474,     0.74575,     0.74675,     0.74775,     0.74875,     0.74975,     0.75075,     0.75175,     0.75275,     0.75375,     0.75475,     0.75576,     0.75676,     0.75776,     0.75876,     0.75976,     0.76076,     0.76176,     0.76276,     0.76376,     0.76476,     0.76577,     0.76677,     0.76777,\n",
       "           0.76877,     0.76977,     0.77077,     0.77177,     0.77277,     0.77377,     0.77477,     0.77578,     0.77678,     0.77778,     0.77878,     0.77978,     0.78078,     0.78178,     0.78278,     0.78378,     0.78478,     0.78579,     0.78679,     0.78779,     0.78879,     0.78979,     0.79079,     0.79179,\n",
       "           0.79279,     0.79379,     0.79479,      0.7958,      0.7968,      0.7978,      0.7988,      0.7998,      0.8008,      0.8018,      0.8028,      0.8038,      0.8048,     0.80581,     0.80681,     0.80781,     0.80881,     0.80981,     0.81081,     0.81181,     0.81281,     0.81381,     0.81481,     0.81582,\n",
       "           0.81682,     0.81782,     0.81882,     0.81982,     0.82082,     0.82182,     0.82282,     0.82382,     0.82482,     0.82583,     0.82683,     0.82783,     0.82883,     0.82983,     0.83083,     0.83183,     0.83283,     0.83383,     0.83483,     0.83584,     0.83684,     0.83784,     0.83884,     0.83984,\n",
       "           0.84084,     0.84184,     0.84284,     0.84384,     0.84484,     0.84585,     0.84685,     0.84785,     0.84885,     0.84985,     0.85085,     0.85185,     0.85285,     0.85385,     0.85485,     0.85586,     0.85686,     0.85786,     0.85886,     0.85986,     0.86086,     0.86186,     0.86286,     0.86386,\n",
       "           0.86486,     0.86587,     0.86687,     0.86787,     0.86887,     0.86987,     0.87087,     0.87187,     0.87287,     0.87387,     0.87487,     0.87588,     0.87688,     0.87788,     0.87888,     0.87988,     0.88088,     0.88188,     0.88288,     0.88388,     0.88488,     0.88589,     0.88689,     0.88789,\n",
       "           0.88889,     0.88989,     0.89089,     0.89189,     0.89289,     0.89389,     0.89489,      0.8959,      0.8969,      0.8979,      0.8989,      0.8999,      0.9009,      0.9019,      0.9029,      0.9039,      0.9049,     0.90591,     0.90691,     0.90791,     0.90891,     0.90991,     0.91091,     0.91191,\n",
       "           0.91291,     0.91391,     0.91491,     0.91592,     0.91692,     0.91792,     0.91892,     0.91992,     0.92092,     0.92192,     0.92292,     0.92392,     0.92492,     0.92593,     0.92693,     0.92793,     0.92893,     0.92993,     0.93093,     0.93193,     0.93293,     0.93393,     0.93493,     0.93594,\n",
       "           0.93694,     0.93794,     0.93894,     0.93994,     0.94094,     0.94194,     0.94294,     0.94394,     0.94494,     0.94595,     0.94695,     0.94795,     0.94895,     0.94995,     0.95095,     0.95195,     0.95295,     0.95395,     0.95495,     0.95596,     0.95696,     0.95796,     0.95896,     0.95996,\n",
       "           0.96096,     0.96196,     0.96296,     0.96396,     0.96496,     0.96597,     0.96697,     0.96797,     0.96897,     0.96997,     0.97097,     0.97197,     0.97297,     0.97397,     0.97497,     0.97598,     0.97698,     0.97798,     0.97898,     0.97998,     0.98098,     0.98198,     0.98298,     0.98398,\n",
       "           0.98498,     0.98599,     0.98699,     0.98799,     0.98899,     0.98999,     0.99099,     0.99199,     0.99299,     0.99399,     0.99499,       0.996,       0.997,       0.998,       0.999,           1]), array([[  0.0038889,   0.0038889,   0.0038889,   0.0056334,   0.0063626,   0.0061834,   0.0077045,    0.011194,    0.018602,    0.034323,    0.047686,    0.058209,    0.073635,    0.079927,    0.094597,     0.10108,      0.1062,     0.11456,     0.11944,      0.1334,     0.14563,     0.15231,     0.16292,\n",
       "            0.16702,     0.17843,     0.19027,     0.19506,     0.19798,     0.20057,     0.20244,      0.2043,     0.20617,     0.20985,     0.21454,     0.21769,     0.22084,     0.22444,      0.2284,      0.2312,     0.23228,     0.23336,     0.23444,     0.23552,      0.2366,     0.23768,     0.23876,\n",
       "            0.23984,     0.25771,     0.26415,     0.26808,     0.27201,     0.27341,     0.27424,     0.27507,      0.2759,     0.27673,     0.27756,     0.27839,     0.27922,     0.28005,     0.28088,     0.28172,     0.28255,     0.28338,     0.28421,     0.28504,     0.28676,     0.29233,      0.2979,\n",
       "            0.30088,     0.30228,     0.30369,      0.3051,     0.30651,     0.30791,     0.30932,     0.31073,     0.31214,     0.31354,     0.31495,     0.31465,     0.31184,     0.30903,     0.30621,      0.3034,     0.30058,     0.29777,     0.29495,     0.29214,     0.28933,     0.28651,      0.2837,\n",
       "            0.28088,     0.27807,     0.27858,     0.27948,     0.28037,     0.28127,     0.28216,     0.28306,     0.28395,     0.28485,     0.28574,     0.28664,     0.28753,     0.28843,     0.28932,     0.29022,     0.29112,     0.29201,     0.29291,      0.2938,      0.2943,     0.29457,     0.29485,\n",
       "            0.29512,      0.2954,     0.29568,     0.29595,     0.29623,      0.2965,     0.29678,     0.29706,     0.29733,     0.29761,     0.29788,     0.29816,     0.29844,     0.29871,     0.29899,     0.29926,     0.29954,     0.29982,     0.30009,     0.30037,     0.30064,     0.30092,      0.3012,\n",
       "            0.30147,     0.30175,     0.30202,      0.3023,     0.30258,     0.30285,     0.30313,      0.3034,     0.30368,     0.30396,     0.30423,     0.30451,     0.30478,     0.30506,     0.30534,     0.30561,     0.30589,     0.30616,     0.30644,     0.30672,     0.30699,     0.30727,     0.30754,\n",
       "            0.30782,      0.3081,     0.30837,     0.30865,     0.30892,      0.3092,     0.30948,     0.30975,     0.31003,      0.3103,     0.31058,     0.31086,     0.31113,     0.31141,     0.31168,     0.31196,     0.31224,     0.31253,     0.31331,     0.31409,     0.31487,     0.31564,     0.31642,\n",
       "             0.3172,     0.31798,     0.31875,     0.31953,     0.32031,     0.32109,     0.32186,     0.32264,     0.32342,      0.3242,     0.32497,     0.32575,     0.32653,     0.32731,     0.32809,     0.32886,     0.32964,     0.33042,      0.3312,     0.33197,     0.33275,     0.33363,     0.33483,\n",
       "            0.33603,     0.33723,     0.33842,     0.33962,     0.34082,     0.34202,     0.34321,     0.34441,     0.34561,     0.34681,       0.348,      0.3492,      0.3504,      0.3516,     0.35279,     0.35399,     0.35519,     0.35639,     0.35753,     0.35858,     0.35963,     0.36068,     0.36173,\n",
       "            0.36278,     0.36384,     0.36489,     0.36594,     0.36699,     0.36804,     0.36909,     0.37014,     0.37119,     0.37224,     0.37329,     0.37434,      0.3754,     0.37645,      0.3775,     0.37855,      0.3796,     0.38065,      0.3817,     0.38275,      0.3838,     0.38661,     0.39541,\n",
       "            0.40421,     0.41302,     0.42405,     0.43667,      0.4493,     0.45686,     0.46083,      0.4648,     0.46877,     0.47273,      0.4767,     0.48067,     0.48464,      0.4886,     0.49257,     0.49654,     0.50008,     0.50072,     0.50136,       0.502,     0.50264,     0.50327,     0.50391,\n",
       "            0.50455,     0.50519,     0.50583,     0.50647,     0.50711,     0.50774,     0.50838,     0.50902,     0.50966,      0.5103,     0.51094,     0.51158,     0.51222,     0.51285,     0.51349,     0.51413,     0.51477,     0.51541,     0.51605,     0.51669,     0.51732,     0.51796,      0.5186,\n",
       "            0.51924,     0.51988,     0.52052,     0.52116,     0.52179,     0.52243,     0.52307,     0.52371,     0.52435,     0.52499,     0.52563,     0.52626,      0.5269,     0.52754,     0.52818,     0.52882,     0.52946,      0.5301,     0.53074,     0.53137,     0.53201,     0.53265,     0.53329,\n",
       "            0.53393,     0.53457,     0.53521,     0.53584,     0.53648,     0.53712,     0.53776,      0.5384,     0.53904,     0.53968,     0.54031,     0.54095,     0.54159,     0.54223,     0.54287,     0.54351,     0.54415,     0.54478,     0.54542,     0.54606,      0.5467,     0.54734,     0.54798,\n",
       "            0.54862,     0.54926,     0.54989,     0.55053,     0.55117,     0.55181,     0.55245,     0.55309,     0.55373,     0.55436,       0.555,     0.55563,     0.55615,     0.55667,      0.5572,     0.55772,     0.55825,     0.55877,      0.5593,     0.55982,     0.56034,     0.56087,     0.56139,\n",
       "            0.56192,     0.56244,     0.56297,     0.56349,     0.56401,     0.56454,     0.56506,     0.56559,     0.56611,     0.56664,     0.56716,     0.56768,     0.56821,     0.56873,     0.56926,     0.56978,     0.57031,     0.57083,     0.57135,     0.57188,      0.5724,     0.57293,     0.57345,\n",
       "            0.57398,      0.5745,     0.57502,     0.57555,     0.57607,      0.5766,     0.57712,     0.57765,     0.57817,      0.5787,     0.57922,     0.57974,     0.58027,     0.58079,     0.58132,     0.58184,     0.58237,     0.58289,     0.58341,     0.58394,     0.58446,     0.58499,     0.58551,\n",
       "            0.58604,     0.58656,     0.58708,     0.58761,     0.58813,     0.58866,     0.58918,     0.58971,     0.59023,     0.59075,     0.59128,      0.5918,     0.59233,     0.59285,     0.59338,      0.5939,     0.59442,     0.59495,     0.59547,       0.596,     0.59652,     0.59705,     0.59757,\n",
       "            0.59809,     0.59862,     0.59914,     0.59967,     0.60019,     0.60072,     0.60124,     0.60176,     0.60229,     0.60281,     0.60334,     0.60386,     0.60439,     0.60491,     0.60543,     0.60596,     0.60648,     0.60701,     0.60753,     0.60806,     0.60858,      0.6091,     0.60963,\n",
       "            0.61015,     0.61068,      0.6112,     0.61173,     0.61225,     0.61277,      0.6133,     0.61382,     0.61435,     0.61487,      0.6154,     0.61592,     0.61644,     0.61697,     0.61749,     0.61802,     0.61854,     0.61907,     0.61959,     0.62011,     0.62064,     0.62116,     0.62169,\n",
       "            0.62221,     0.62274,     0.62326,     0.62378,     0.62431,     0.62483,     0.62478,     0.62446,     0.62413,     0.62381,     0.62349,     0.62317,     0.62284,     0.62252,      0.6222,     0.62188,     0.62155,     0.62123,     0.62091,     0.62058,     0.62026,     0.61994,     0.61962,\n",
       "            0.61929,     0.61897,     0.61865,     0.61832,       0.618,     0.61768,     0.61736,     0.61703,     0.61671,     0.61639,     0.61607,     0.61574,     0.61542,      0.6151,     0.61477,     0.61445,     0.61413,     0.61381,     0.61348,     0.61316,     0.61284,     0.61252,     0.61219,\n",
       "            0.61187,     0.61155,     0.61122,      0.6109,     0.61058,     0.61026,     0.60993,     0.60961,     0.60929,     0.60896,     0.60864,     0.60832,       0.608,     0.60767,     0.60735,     0.60703,     0.60671,     0.60638,     0.60606,     0.60574,     0.60541,     0.60509,     0.60477,\n",
       "            0.60445,     0.60412,      0.6038,     0.60348,     0.60316,     0.60283,     0.60251,     0.60219,     0.60186,     0.60154,     0.60122,      0.6009,     0.60057,     0.60025,     0.59993,     0.59961,     0.59928,     0.59896,     0.59864,     0.59831,     0.59799,     0.59767,     0.59735,\n",
       "            0.59702,      0.5967,     0.59638,     0.59605,     0.59573,     0.59541,     0.59509,     0.59476,     0.59444,     0.59412,      0.5938,     0.59347,     0.59315,     0.59283,      0.5925,     0.59218,     0.59186,     0.59154,     0.59121,     0.59089,     0.59057,     0.59025,     0.58992,\n",
       "             0.5896,     0.58928,     0.58895,     0.58863,     0.58831,     0.58799,     0.58766,     0.58734,     0.58702,     0.58669,     0.58637,     0.58605,     0.58573,      0.5854,     0.58508,     0.58476,     0.58444,     0.58411,     0.58379,     0.58347,     0.58314,     0.58282,      0.5825,\n",
       "            0.58218,     0.58185,     0.58153,     0.58121,     0.58089,     0.58056,     0.58024,     0.57992,     0.57959,     0.57927,     0.57895,     0.57863,      0.5783,     0.57798,     0.57766,     0.57733,     0.57701,     0.57669,     0.57637,     0.57604,     0.57572,      0.5754,     0.57508,\n",
       "            0.57475,     0.57443,     0.57411,     0.57378,     0.57346,     0.57314,     0.57282,     0.57249,     0.57217,     0.57185,     0.57153,     0.57182,     0.57237,     0.57292,     0.57347,     0.57402,     0.57458,     0.57513,     0.57568,     0.57623,     0.57679,     0.57734,     0.57789,\n",
       "            0.57844,     0.57899,     0.57955,      0.5801,     0.58065,      0.5812,     0.58176,     0.58231,     0.58286,     0.58341,     0.58397,     0.58452,     0.58507,     0.58562,     0.58617,     0.58673,     0.58728,     0.58783,     0.58838,     0.58894,     0.58949,     0.59004,     0.59059,\n",
       "            0.59114,      0.5917,     0.59225,      0.5928,     0.59335,     0.59391,     0.59446,     0.59501,     0.59556,     0.59612,     0.59667,     0.59722,     0.59777,     0.59832,     0.59888,     0.59943,     0.59998,     0.60053,     0.60109,     0.60164,     0.60219,     0.60274,     0.60329,\n",
       "            0.60385,      0.6044,     0.60495,      0.6055,     0.60606,     0.60661,     0.60716,     0.60771,     0.60827,     0.60882,     0.60937,     0.60992,     0.61047,     0.61103,     0.61158,     0.61213,     0.61268,     0.61324,     0.61379,     0.61434,     0.61489,     0.61544,       0.616,\n",
       "            0.61655,      0.6171,     0.61765,     0.61821,     0.61876,     0.61931,     0.61986,     0.62042,     0.62097,     0.62152,     0.62207,     0.62262,     0.62318,     0.62373,     0.62428,     0.62483,     0.62539,     0.62594,     0.62649,     0.62704,      0.6276,     0.62815,      0.6287,\n",
       "            0.62925,      0.6298,     0.63036,     0.63091,     0.63146,     0.63201,     0.63257,     0.63312,     0.63367,     0.63422,     0.63477,     0.63533,     0.63588,     0.63643,     0.63698,     0.63754,     0.63809,     0.63864,     0.63919,     0.63975,      0.6403,     0.64085,      0.6414,\n",
       "            0.64195,     0.64251,     0.64306,     0.64361,     0.64416,     0.64472,     0.64527,     0.64582,     0.64637,     0.64692,     0.64748,     0.64803,     0.64858,     0.64913,     0.64969,     0.65024,     0.65079,     0.65134,      0.6519,     0.65245,       0.653,     0.65355,      0.6541,\n",
       "            0.65466,     0.65521,     0.65576,     0.65631,     0.65687,     0.65742,     0.65797,     0.65852,     0.65907,     0.65963,     0.66018,     0.66073,     0.66128,     0.66184,     0.66239,     0.66294,     0.66349,     0.66405,      0.6646,     0.66515,      0.6657,     0.66625,     0.66868,\n",
       "            0.67662,     0.68456,      0.6925,     0.70044,     0.70838,     0.71631,     0.72425,     0.73219,     0.74013,     0.74807,     0.75601,     0.76395,     0.77189,     0.77983,     0.78777,      0.7957,      0.7998,     0.79935,     0.79891,     0.79846,     0.79802,     0.79757,     0.79713,\n",
       "            0.79668,     0.79624,     0.79579,     0.79535,     0.79491,     0.79446,     0.79402,     0.79357,     0.79313,     0.79268,     0.79224,     0.79179,     0.79135,      0.7909,     0.79046,     0.79002,     0.78957,     0.78913,     0.78868,     0.78824,     0.78779,     0.78735,      0.7869,\n",
       "            0.78646,     0.78601,     0.78557,     0.78512,     0.78468,     0.78424,     0.78379,     0.78335,      0.7829,     0.78246,     0.78201,     0.78157,     0.78112,     0.78068,     0.78023,     0.77979,     0.77935,      0.7789,     0.77846,     0.77801,     0.77757,     0.77712,     0.77668,\n",
       "            0.77623,     0.77579,     0.77534,      0.7749,     0.77445,     0.77401,     0.77357,     0.77312,     0.77268,     0.77223,     0.77179,     0.77134,      0.7709,     0.77045,     0.77001,     0.76956,     0.76912,     0.76868,     0.76823,     0.76779,     0.76734,      0.7669,     0.76645,\n",
       "            0.76601,     0.76556,     0.76512,     0.76467,     0.76423,     0.76378,     0.76334,      0.7629,     0.76245,     0.76201,     0.76156,     0.76112,     0.76067,     0.76023,     0.75978,     0.75934,     0.75889,     0.75845,     0.75801,     0.75756,     0.75712,     0.75667,     0.75623,\n",
       "            0.75578,     0.75534,     0.75489,     0.75445,       0.754,     0.75356,     0.75311,     0.75267,     0.75223,     0.75178,     0.75134,     0.75089,     0.75045,        0.75,     0.75905,     0.76816,     0.77728,     0.78639,      0.7955,     0.80461,     0.81372,     0.82283,     0.83194,\n",
       "            0.84106,     0.85017,     0.85928,     0.86839,      0.8775,     0.88661,     0.89573,     0.90484,     0.91395,     0.92306,     0.93217,     0.94128,      0.9504,     0.95951,     0.96862,     0.97773,     0.98684,     0.99595,           1,           1,           1,           1,           1,\n",
       "                  1,           1,           1,           1,           1,           1,           1,           1,           1,           1,           1]]), 'Confidence', 'Precision'], [array([          0,    0.001001,    0.002002,    0.003003,    0.004004,    0.005005,    0.006006,    0.007007,    0.008008,    0.009009,     0.01001,    0.011011,    0.012012,    0.013013,    0.014014,    0.015015,    0.016016,    0.017017,    0.018018,    0.019019,     0.02002,    0.021021,    0.022022,    0.023023,\n",
       "          0.024024,    0.025025,    0.026026,    0.027027,    0.028028,    0.029029,     0.03003,    0.031031,    0.032032,    0.033033,    0.034034,    0.035035,    0.036036,    0.037037,    0.038038,    0.039039,     0.04004,    0.041041,    0.042042,    0.043043,    0.044044,    0.045045,    0.046046,    0.047047,\n",
       "          0.048048,    0.049049,     0.05005,    0.051051,    0.052052,    0.053053,    0.054054,    0.055055,    0.056056,    0.057057,    0.058058,    0.059059,     0.06006,    0.061061,    0.062062,    0.063063,    0.064064,    0.065065,    0.066066,    0.067067,    0.068068,    0.069069,     0.07007,    0.071071,\n",
       "          0.072072,    0.073073,    0.074074,    0.075075,    0.076076,    0.077077,    0.078078,    0.079079,     0.08008,    0.081081,    0.082082,    0.083083,    0.084084,    0.085085,    0.086086,    0.087087,    0.088088,    0.089089,     0.09009,    0.091091,    0.092092,    0.093093,    0.094094,    0.095095,\n",
       "          0.096096,    0.097097,    0.098098,    0.099099,      0.1001,      0.1011,      0.1021,      0.1031,      0.1041,     0.10511,     0.10611,     0.10711,     0.10811,     0.10911,     0.11011,     0.11111,     0.11211,     0.11311,     0.11411,     0.11512,     0.11612,     0.11712,     0.11812,     0.11912,\n",
       "           0.12012,     0.12112,     0.12212,     0.12312,     0.12412,     0.12513,     0.12613,     0.12713,     0.12813,     0.12913,     0.13013,     0.13113,     0.13213,     0.13313,     0.13413,     0.13514,     0.13614,     0.13714,     0.13814,     0.13914,     0.14014,     0.14114,     0.14214,     0.14314,\n",
       "           0.14414,     0.14515,     0.14615,     0.14715,     0.14815,     0.14915,     0.15015,     0.15115,     0.15215,     0.15315,     0.15415,     0.15516,     0.15616,     0.15716,     0.15816,     0.15916,     0.16016,     0.16116,     0.16216,     0.16316,     0.16416,     0.16517,     0.16617,     0.16717,\n",
       "           0.16817,     0.16917,     0.17017,     0.17117,     0.17217,     0.17317,     0.17417,     0.17518,     0.17618,     0.17718,     0.17818,     0.17918,     0.18018,     0.18118,     0.18218,     0.18318,     0.18418,     0.18519,     0.18619,     0.18719,     0.18819,     0.18919,     0.19019,     0.19119,\n",
       "           0.19219,     0.19319,     0.19419,      0.1952,      0.1962,      0.1972,      0.1982,      0.1992,      0.2002,      0.2012,      0.2022,      0.2032,      0.2042,     0.20521,     0.20621,     0.20721,     0.20821,     0.20921,     0.21021,     0.21121,     0.21221,     0.21321,     0.21421,     0.21522,\n",
       "           0.21622,     0.21722,     0.21822,     0.21922,     0.22022,     0.22122,     0.22222,     0.22322,     0.22422,     0.22523,     0.22623,     0.22723,     0.22823,     0.22923,     0.23023,     0.23123,     0.23223,     0.23323,     0.23423,     0.23524,     0.23624,     0.23724,     0.23824,     0.23924,\n",
       "           0.24024,     0.24124,     0.24224,     0.24324,     0.24424,     0.24525,     0.24625,     0.24725,     0.24825,     0.24925,     0.25025,     0.25125,     0.25225,     0.25325,     0.25425,     0.25526,     0.25626,     0.25726,     0.25826,     0.25926,     0.26026,     0.26126,     0.26226,     0.26326,\n",
       "           0.26426,     0.26527,     0.26627,     0.26727,     0.26827,     0.26927,     0.27027,     0.27127,     0.27227,     0.27327,     0.27427,     0.27528,     0.27628,     0.27728,     0.27828,     0.27928,     0.28028,     0.28128,     0.28228,     0.28328,     0.28428,     0.28529,     0.28629,     0.28729,\n",
       "           0.28829,     0.28929,     0.29029,     0.29129,     0.29229,     0.29329,     0.29429,      0.2953,      0.2963,      0.2973,      0.2983,      0.2993,      0.3003,      0.3013,      0.3023,      0.3033,      0.3043,     0.30531,     0.30631,     0.30731,     0.30831,     0.30931,     0.31031,     0.31131,\n",
       "           0.31231,     0.31331,     0.31431,     0.31532,     0.31632,     0.31732,     0.31832,     0.31932,     0.32032,     0.32132,     0.32232,     0.32332,     0.32432,     0.32533,     0.32633,     0.32733,     0.32833,     0.32933,     0.33033,     0.33133,     0.33233,     0.33333,     0.33433,     0.33534,\n",
       "           0.33634,     0.33734,     0.33834,     0.33934,     0.34034,     0.34134,     0.34234,     0.34334,     0.34434,     0.34535,     0.34635,     0.34735,     0.34835,     0.34935,     0.35035,     0.35135,     0.35235,     0.35335,     0.35435,     0.35536,     0.35636,     0.35736,     0.35836,     0.35936,\n",
       "           0.36036,     0.36136,     0.36236,     0.36336,     0.36436,     0.36537,     0.36637,     0.36737,     0.36837,     0.36937,     0.37037,     0.37137,     0.37237,     0.37337,     0.37437,     0.37538,     0.37638,     0.37738,     0.37838,     0.37938,     0.38038,     0.38138,     0.38238,     0.38338,\n",
       "           0.38438,     0.38539,     0.38639,     0.38739,     0.38839,     0.38939,     0.39039,     0.39139,     0.39239,     0.39339,     0.39439,      0.3954,      0.3964,      0.3974,      0.3984,      0.3994,      0.4004,      0.4014,      0.4024,      0.4034,      0.4044,     0.40541,     0.40641,     0.40741,\n",
       "           0.40841,     0.40941,     0.41041,     0.41141,     0.41241,     0.41341,     0.41441,     0.41542,     0.41642,     0.41742,     0.41842,     0.41942,     0.42042,     0.42142,     0.42242,     0.42342,     0.42442,     0.42543,     0.42643,     0.42743,     0.42843,     0.42943,     0.43043,     0.43143,\n",
       "           0.43243,     0.43343,     0.43443,     0.43544,     0.43644,     0.43744,     0.43844,     0.43944,     0.44044,     0.44144,     0.44244,     0.44344,     0.44444,     0.44545,     0.44645,     0.44745,     0.44845,     0.44945,     0.45045,     0.45145,     0.45245,     0.45345,     0.45445,     0.45546,\n",
       "           0.45646,     0.45746,     0.45846,     0.45946,     0.46046,     0.46146,     0.46246,     0.46346,     0.46446,     0.46547,     0.46647,     0.46747,     0.46847,     0.46947,     0.47047,     0.47147,     0.47247,     0.47347,     0.47447,     0.47548,     0.47648,     0.47748,     0.47848,     0.47948,\n",
       "           0.48048,     0.48148,     0.48248,     0.48348,     0.48448,     0.48549,     0.48649,     0.48749,     0.48849,     0.48949,     0.49049,     0.49149,     0.49249,     0.49349,     0.49449,      0.4955,      0.4965,      0.4975,      0.4985,      0.4995,      0.5005,      0.5015,      0.5025,      0.5035,\n",
       "            0.5045,     0.50551,     0.50651,     0.50751,     0.50851,     0.50951,     0.51051,     0.51151,     0.51251,     0.51351,     0.51451,     0.51552,     0.51652,     0.51752,     0.51852,     0.51952,     0.52052,     0.52152,     0.52252,     0.52352,     0.52452,     0.52553,     0.52653,     0.52753,\n",
       "           0.52853,     0.52953,     0.53053,     0.53153,     0.53253,     0.53353,     0.53453,     0.53554,     0.53654,     0.53754,     0.53854,     0.53954,     0.54054,     0.54154,     0.54254,     0.54354,     0.54454,     0.54555,     0.54655,     0.54755,     0.54855,     0.54955,     0.55055,     0.55155,\n",
       "           0.55255,     0.55355,     0.55455,     0.55556,     0.55656,     0.55756,     0.55856,     0.55956,     0.56056,     0.56156,     0.56256,     0.56356,     0.56456,     0.56557,     0.56657,     0.56757,     0.56857,     0.56957,     0.57057,     0.57157,     0.57257,     0.57357,     0.57457,     0.57558,\n",
       "           0.57658,     0.57758,     0.57858,     0.57958,     0.58058,     0.58158,     0.58258,     0.58358,     0.58458,     0.58559,     0.58659,     0.58759,     0.58859,     0.58959,     0.59059,     0.59159,     0.59259,     0.59359,     0.59459,      0.5956,      0.5966,      0.5976,      0.5986,      0.5996,\n",
       "            0.6006,      0.6016,      0.6026,      0.6036,      0.6046,     0.60561,     0.60661,     0.60761,     0.60861,     0.60961,     0.61061,     0.61161,     0.61261,     0.61361,     0.61461,     0.61562,     0.61662,     0.61762,     0.61862,     0.61962,     0.62062,     0.62162,     0.62262,     0.62362,\n",
       "           0.62462,     0.62563,     0.62663,     0.62763,     0.62863,     0.62963,     0.63063,     0.63163,     0.63263,     0.63363,     0.63463,     0.63564,     0.63664,     0.63764,     0.63864,     0.63964,     0.64064,     0.64164,     0.64264,     0.64364,     0.64464,     0.64565,     0.64665,     0.64765,\n",
       "           0.64865,     0.64965,     0.65065,     0.65165,     0.65265,     0.65365,     0.65465,     0.65566,     0.65666,     0.65766,     0.65866,     0.65966,     0.66066,     0.66166,     0.66266,     0.66366,     0.66466,     0.66567,     0.66667,     0.66767,     0.66867,     0.66967,     0.67067,     0.67167,\n",
       "           0.67267,     0.67367,     0.67467,     0.67568,     0.67668,     0.67768,     0.67868,     0.67968,     0.68068,     0.68168,     0.68268,     0.68368,     0.68468,     0.68569,     0.68669,     0.68769,     0.68869,     0.68969,     0.69069,     0.69169,     0.69269,     0.69369,     0.69469,      0.6957,\n",
       "            0.6967,      0.6977,      0.6987,      0.6997,      0.7007,      0.7017,      0.7027,      0.7037,      0.7047,     0.70571,     0.70671,     0.70771,     0.70871,     0.70971,     0.71071,     0.71171,     0.71271,     0.71371,     0.71471,     0.71572,     0.71672,     0.71772,     0.71872,     0.71972,\n",
       "           0.72072,     0.72172,     0.72272,     0.72372,     0.72472,     0.72573,     0.72673,     0.72773,     0.72873,     0.72973,     0.73073,     0.73173,     0.73273,     0.73373,     0.73473,     0.73574,     0.73674,     0.73774,     0.73874,     0.73974,     0.74074,     0.74174,     0.74274,     0.74374,\n",
       "           0.74474,     0.74575,     0.74675,     0.74775,     0.74875,     0.74975,     0.75075,     0.75175,     0.75275,     0.75375,     0.75475,     0.75576,     0.75676,     0.75776,     0.75876,     0.75976,     0.76076,     0.76176,     0.76276,     0.76376,     0.76476,     0.76577,     0.76677,     0.76777,\n",
       "           0.76877,     0.76977,     0.77077,     0.77177,     0.77277,     0.77377,     0.77477,     0.77578,     0.77678,     0.77778,     0.77878,     0.77978,     0.78078,     0.78178,     0.78278,     0.78378,     0.78478,     0.78579,     0.78679,     0.78779,     0.78879,     0.78979,     0.79079,     0.79179,\n",
       "           0.79279,     0.79379,     0.79479,      0.7958,      0.7968,      0.7978,      0.7988,      0.7998,      0.8008,      0.8018,      0.8028,      0.8038,      0.8048,     0.80581,     0.80681,     0.80781,     0.80881,     0.80981,     0.81081,     0.81181,     0.81281,     0.81381,     0.81481,     0.81582,\n",
       "           0.81682,     0.81782,     0.81882,     0.81982,     0.82082,     0.82182,     0.82282,     0.82382,     0.82482,     0.82583,     0.82683,     0.82783,     0.82883,     0.82983,     0.83083,     0.83183,     0.83283,     0.83383,     0.83483,     0.83584,     0.83684,     0.83784,     0.83884,     0.83984,\n",
       "           0.84084,     0.84184,     0.84284,     0.84384,     0.84484,     0.84585,     0.84685,     0.84785,     0.84885,     0.84985,     0.85085,     0.85185,     0.85285,     0.85385,     0.85485,     0.85586,     0.85686,     0.85786,     0.85886,     0.85986,     0.86086,     0.86186,     0.86286,     0.86386,\n",
       "           0.86486,     0.86587,     0.86687,     0.86787,     0.86887,     0.86987,     0.87087,     0.87187,     0.87287,     0.87387,     0.87487,     0.87588,     0.87688,     0.87788,     0.87888,     0.87988,     0.88088,     0.88188,     0.88288,     0.88388,     0.88488,     0.88589,     0.88689,     0.88789,\n",
       "           0.88889,     0.88989,     0.89089,     0.89189,     0.89289,     0.89389,     0.89489,      0.8959,      0.8969,      0.8979,      0.8989,      0.8999,      0.9009,      0.9019,      0.9029,      0.9039,      0.9049,     0.90591,     0.90691,     0.90791,     0.90891,     0.90991,     0.91091,     0.91191,\n",
       "           0.91291,     0.91391,     0.91491,     0.91592,     0.91692,     0.91792,     0.91892,     0.91992,     0.92092,     0.92192,     0.92292,     0.92392,     0.92492,     0.92593,     0.92693,     0.92793,     0.92893,     0.92993,     0.93093,     0.93193,     0.93293,     0.93393,     0.93493,     0.93594,\n",
       "           0.93694,     0.93794,     0.93894,     0.93994,     0.94094,     0.94194,     0.94294,     0.94394,     0.94494,     0.94595,     0.94695,     0.94795,     0.94895,     0.94995,     0.95095,     0.95195,     0.95295,     0.95395,     0.95495,     0.95596,     0.95696,     0.95796,     0.95896,     0.95996,\n",
       "           0.96096,     0.96196,     0.96296,     0.96396,     0.96496,     0.96597,     0.96697,     0.96797,     0.96897,     0.96997,     0.97097,     0.97197,     0.97297,     0.97397,     0.97497,     0.97598,     0.97698,     0.97798,     0.97898,     0.97998,     0.98098,     0.98198,     0.98298,     0.98398,\n",
       "           0.98498,     0.98599,     0.98699,     0.98799,     0.98899,     0.98999,     0.99099,     0.99199,     0.99299,     0.99399,     0.99499,       0.996,       0.997,       0.998,       0.999,           1]), array([[          1,           1,           1,           1,           1,     0.85714,     0.85714,     0.85714,     0.85714,     0.85714,     0.85714,     0.85714,     0.85714,     0.85714,     0.85714,     0.85714,     0.85714,     0.85714,     0.85714,     0.85714,     0.85714,     0.85714,     0.85714,\n",
       "            0.85714,     0.85714,     0.85714,     0.85714,     0.85714,     0.85714,     0.85714,     0.85714,     0.85714,     0.85714,     0.85714,     0.85714,     0.85714,     0.85714,     0.85714,     0.85714,     0.85714,     0.85714,     0.85714,     0.85714,     0.85714,     0.85714,     0.85714,\n",
       "            0.85714,     0.85714,     0.85714,     0.85714,     0.85714,     0.85714,     0.85714,     0.85714,     0.85714,     0.85714,     0.85714,     0.85714,     0.85714,     0.85714,     0.85714,     0.85714,     0.85714,     0.85714,     0.85714,     0.85714,     0.85714,     0.85714,     0.85714,\n",
       "            0.85714,     0.85714,     0.85714,     0.85714,     0.85714,     0.85714,     0.85714,     0.85714,     0.85714,     0.85714,     0.85714,     0.85288,      0.8423,     0.83172,     0.82114,     0.81057,     0.79999,     0.78941,     0.77884,     0.76826,     0.75768,     0.74711,     0.73653,\n",
       "            0.72595,     0.71538,     0.71429,     0.71429,     0.71429,     0.71429,     0.71429,     0.71429,     0.71429,     0.71429,     0.71429,     0.71429,     0.71429,     0.71429,     0.71429,     0.71429,     0.71429,     0.71429,     0.71429,     0.71429,     0.71429,     0.71429,     0.71429,\n",
       "            0.71429,     0.71429,     0.71429,     0.71429,     0.71429,     0.71429,     0.71429,     0.71429,     0.71429,     0.71429,     0.71429,     0.71429,     0.71429,     0.71429,     0.71429,     0.71429,     0.71429,     0.71429,     0.71429,     0.71429,     0.71429,     0.71429,     0.71429,\n",
       "            0.71429,     0.71429,     0.71429,     0.71429,     0.71429,     0.71429,     0.71429,     0.71429,     0.71429,     0.71429,     0.71429,     0.71429,     0.71429,     0.71429,     0.71429,     0.71429,     0.71429,     0.71429,     0.71429,     0.71429,     0.71429,     0.71429,     0.71429,\n",
       "            0.71429,     0.71429,     0.71429,     0.71429,     0.71429,     0.71429,     0.71429,     0.71429,     0.71429,     0.71429,     0.71429,     0.71429,     0.71429,     0.71429,     0.71429,     0.71429,     0.71429,     0.71429,     0.71429,     0.71429,     0.71429,     0.71429,     0.71429,\n",
       "            0.71429,     0.71429,     0.71429,     0.71429,     0.71429,     0.71429,     0.71429,     0.71429,     0.71429,     0.71429,     0.71429,     0.71429,     0.71429,     0.71429,     0.71429,     0.71429,     0.71429,     0.71429,     0.71429,     0.71429,     0.71429,     0.71429,     0.71429,\n",
       "            0.71429,     0.71429,     0.71429,     0.71429,     0.71429,     0.71429,     0.71429,     0.71429,     0.71429,     0.71429,     0.71429,     0.71429,     0.71429,     0.71429,     0.71429,     0.71429,     0.71429,     0.71429,     0.71429,     0.71429,     0.71429,     0.71429,     0.71429,\n",
       "            0.71429,     0.71429,     0.71429,     0.71429,     0.71429,     0.71429,     0.71429,     0.71429,     0.71429,     0.71429,     0.71429,     0.71429,     0.71429,     0.71429,     0.71429,     0.71429,     0.71429,     0.71429,     0.71429,     0.71429,     0.71429,     0.71429,     0.71429,\n",
       "            0.71429,     0.71429,     0.71429,     0.71429,     0.71429,     0.71429,     0.71429,     0.71429,     0.71429,     0.71429,     0.71429,     0.71429,     0.71429,     0.71429,     0.71429,     0.71429,     0.71429,     0.71429,     0.71429,     0.71429,     0.71429,     0.71429,     0.71429,\n",
       "            0.71429,     0.71429,     0.71429,     0.71429,     0.71429,     0.71429,     0.71429,     0.71429,     0.71429,     0.71429,     0.71429,     0.71429,     0.71429,     0.71429,     0.71429,     0.71429,     0.71429,     0.71429,     0.71429,     0.71429,     0.71429,     0.71429,     0.71429,\n",
       "            0.71429,     0.71429,     0.71429,     0.71429,     0.71429,     0.71429,     0.71429,     0.71429,     0.71429,     0.71429,     0.71429,     0.71429,     0.71429,     0.71429,     0.71429,     0.71429,     0.71429,     0.71429,     0.71429,     0.71429,     0.71429,     0.71429,     0.71429,\n",
       "            0.71429,     0.71429,     0.71429,     0.71429,     0.71429,     0.71429,     0.71429,     0.71429,     0.71429,     0.71429,     0.71429,     0.71429,     0.71429,     0.71429,     0.71429,     0.71429,     0.71429,     0.71429,     0.71429,     0.71429,     0.71429,     0.71429,     0.71429,\n",
       "            0.71429,     0.71429,     0.71429,     0.71429,     0.71429,     0.71429,     0.71429,     0.71429,     0.71429,     0.71429,     0.71429,     0.71429,     0.71429,     0.71429,     0.71429,     0.71429,     0.71429,     0.71429,     0.71429,     0.71429,     0.71429,     0.71429,     0.71429,\n",
       "            0.71429,     0.71429,     0.71429,     0.71429,     0.71429,     0.71429,     0.71429,     0.71429,     0.71429,     0.71429,     0.71429,     0.71429,     0.71429,     0.71429,     0.71429,     0.71429,     0.71429,     0.71429,     0.71429,     0.71429,     0.71429,     0.71429,     0.71429,\n",
       "            0.71429,     0.71429,     0.71429,     0.71429,     0.71429,     0.71429,     0.71429,     0.71429,     0.71429,     0.71429,     0.71429,     0.71429,     0.71429,     0.71429,     0.71429,     0.71429,     0.71429,     0.71429,     0.71429,     0.71429,     0.71429,     0.71429,     0.71429,\n",
       "            0.71429,     0.71429,     0.71429,     0.71429,     0.71429,     0.71429,     0.71429,     0.71429,     0.71429,     0.71429,     0.71429,     0.71429,     0.71429,     0.71429,     0.71429,     0.71429,     0.71429,     0.71429,     0.71429,     0.71429,     0.71429,     0.71429,     0.71429,\n",
       "            0.71429,     0.71429,     0.71429,     0.71429,     0.71429,     0.71429,     0.71429,     0.71429,     0.71429,     0.71429,     0.71429,     0.71429,     0.71429,     0.71429,     0.71429,     0.71429,     0.71429,     0.71429,     0.71429,     0.71429,     0.71429,     0.71429,     0.71429,\n",
       "            0.71429,     0.71429,     0.71429,     0.71429,     0.71429,     0.71429,     0.71429,     0.71429,     0.71429,     0.71429,     0.71429,     0.71429,     0.71429,     0.71429,     0.71429,     0.71429,     0.71429,     0.71429,     0.71429,     0.71429,     0.71429,     0.71429,     0.71429,\n",
       "            0.71429,     0.71429,     0.71429,     0.71429,     0.71429,     0.71429,      0.7137,     0.71284,     0.71198,     0.71112,     0.71026,      0.7094,     0.70853,     0.70767,     0.70681,     0.70595,     0.70509,     0.70423,     0.70337,     0.70251,     0.70165,     0.70079,     0.69993,\n",
       "            0.69907,     0.69821,     0.69735,     0.69649,     0.69562,     0.69476,      0.6939,     0.69304,     0.69218,     0.69132,     0.69046,      0.6896,     0.68874,     0.68788,     0.68702,     0.68616,      0.6853,     0.68444,     0.68357,     0.68271,     0.68185,     0.68099,     0.68013,\n",
       "            0.67927,     0.67841,     0.67755,     0.67669,     0.67583,     0.67497,     0.67411,     0.67325,     0.67239,     0.67153,     0.67066,      0.6698,     0.66894,     0.66808,     0.66722,     0.66636,      0.6655,     0.66464,     0.66378,     0.66292,     0.66206,      0.6612,     0.66034,\n",
       "            0.65948,     0.65862,     0.65775,     0.65689,     0.65603,     0.65517,     0.65431,     0.65345,     0.65259,     0.65173,     0.65087,     0.65001,     0.64915,     0.64829,     0.64743,     0.64657,     0.64571,     0.64484,     0.64398,     0.64312,     0.64226,      0.6414,     0.64054,\n",
       "            0.63968,     0.63882,     0.63796,      0.6371,     0.63624,     0.63538,     0.63452,     0.63366,     0.63279,     0.63193,     0.63107,     0.63021,     0.62935,     0.62849,     0.62763,     0.62677,     0.62591,     0.62505,     0.62419,     0.62333,     0.62247,     0.62161,     0.62075,\n",
       "            0.61988,     0.61902,     0.61816,      0.6173,     0.61644,     0.61558,     0.61472,     0.61386,       0.613,     0.61214,     0.61128,     0.61042,     0.60956,      0.6087,     0.60784,     0.60697,     0.60611,     0.60525,     0.60439,     0.60353,     0.60267,     0.60181,     0.60095,\n",
       "            0.60009,     0.59923,     0.59837,     0.59751,     0.59665,     0.59579,     0.59493,     0.59406,      0.5932,     0.59234,     0.59148,     0.59062,     0.58976,      0.5889,     0.58804,     0.58718,     0.58632,     0.58546,      0.5846,     0.58374,     0.58288,     0.58201,     0.58115,\n",
       "            0.58029,     0.57943,     0.57857,     0.57771,     0.57685,     0.57599,     0.57513,     0.57427,     0.57341,     0.57255,     0.57169,     0.57143,     0.57143,     0.57143,     0.57143,     0.57143,     0.57143,     0.57143,     0.57143,     0.57143,     0.57143,     0.57143,     0.57143,\n",
       "            0.57143,     0.57143,     0.57143,     0.57143,     0.57143,     0.57143,     0.57143,     0.57143,     0.57143,     0.57143,     0.57143,     0.57143,     0.57143,     0.57143,     0.57143,     0.57143,     0.57143,     0.57143,     0.57143,     0.57143,     0.57143,     0.57143,     0.57143,\n",
       "            0.57143,     0.57143,     0.57143,     0.57143,     0.57143,     0.57143,     0.57143,     0.57143,     0.57143,     0.57143,     0.57143,     0.57143,     0.57143,     0.57143,     0.57143,     0.57143,     0.57143,     0.57143,     0.57143,     0.57143,     0.57143,     0.57143,     0.57143,\n",
       "            0.57143,     0.57143,     0.57143,     0.57143,     0.57143,     0.57143,     0.57143,     0.57143,     0.57143,     0.57143,     0.57143,     0.57143,     0.57143,     0.57143,     0.57143,     0.57143,     0.57143,     0.57143,     0.57143,     0.57143,     0.57143,     0.57143,     0.57143,\n",
       "            0.57143,     0.57143,     0.57143,     0.57143,     0.57143,     0.57143,     0.57143,     0.57143,     0.57143,     0.57143,     0.57143,     0.57143,     0.57143,     0.57143,     0.57143,     0.57143,     0.57143,     0.57143,     0.57143,     0.57143,     0.57143,     0.57143,     0.57143,\n",
       "            0.57143,     0.57143,     0.57143,     0.57143,     0.57143,     0.57143,     0.57143,     0.57143,     0.57143,     0.57143,     0.57143,     0.57143,     0.57143,     0.57143,     0.57143,     0.57143,     0.57143,     0.57143,     0.57143,     0.57143,     0.57143,     0.57143,     0.57143,\n",
       "            0.57143,     0.57143,     0.57143,     0.57143,     0.57143,     0.57143,     0.57143,     0.57143,     0.57143,     0.57143,     0.57143,     0.57143,     0.57143,     0.57143,     0.57143,     0.57143,     0.57143,     0.57143,     0.57143,     0.57143,     0.57143,     0.57143,     0.57143,\n",
       "            0.57143,     0.57143,     0.57143,     0.57143,     0.57143,     0.57143,     0.57143,     0.57143,     0.57143,     0.57143,     0.57143,     0.57143,     0.57143,     0.57143,     0.57143,     0.57143,     0.57143,     0.57143,     0.57143,     0.57143,     0.57143,     0.57143,     0.57143,\n",
       "            0.57143,     0.57143,     0.57143,     0.57143,     0.57143,     0.57143,     0.57143,     0.57143,     0.57143,     0.57143,     0.57143,     0.57143,     0.57143,     0.57143,     0.57143,     0.57143,     0.57085,     0.56958,     0.56831,     0.56703,     0.56576,     0.56449,     0.56322,\n",
       "            0.56195,     0.56068,     0.55941,     0.55814,     0.55687,      0.5556,     0.55433,     0.55306,     0.55179,     0.55052,     0.54925,     0.54798,     0.54671,     0.54544,     0.54417,      0.5429,     0.54163,     0.54036,     0.53909,     0.53782,     0.53655,     0.53528,     0.53401,\n",
       "            0.53274,     0.53147,      0.5302,     0.52893,     0.52766,     0.52639,     0.52512,     0.52385,     0.52258,     0.52131,     0.52004,     0.51877,      0.5175,     0.51623,     0.51496,     0.51369,     0.51241,     0.51114,     0.50987,      0.5086,     0.50733,     0.50606,     0.50479,\n",
       "            0.50352,     0.50225,     0.50098,     0.49971,     0.49844,     0.49717,      0.4959,     0.49463,     0.49336,     0.49209,     0.49082,     0.48955,     0.48828,     0.48701,     0.48574,     0.48447,      0.4832,     0.48193,     0.48066,     0.47939,     0.47812,     0.47685,     0.47558,\n",
       "            0.47431,     0.47304,     0.47177,      0.4705,     0.46923,     0.46796,     0.46669,     0.46542,     0.46415,     0.46288,     0.46161,     0.46034,     0.45907,      0.4578,     0.45652,     0.45525,     0.45398,     0.45271,     0.45144,     0.45017,      0.4489,     0.44763,     0.44636,\n",
       "            0.44509,     0.44382,     0.44255,     0.44128,     0.44001,     0.43874,     0.43747,      0.4362,     0.43493,     0.43366,     0.43239,     0.43112,     0.42985,     0.42858,     0.42857,     0.42857,     0.42857,     0.42857,     0.42857,     0.42857,     0.42857,     0.42857,     0.42857,\n",
       "            0.42857,     0.42857,     0.42857,     0.42857,     0.42857,     0.42857,     0.42857,     0.42857,     0.42857,     0.42857,     0.42857,     0.42857,     0.42857,     0.42857,     0.42857,     0.42857,     0.42857,     0.42857,      0.4131,     0.38528,     0.35746,     0.32963,     0.30181,\n",
       "              0.267,      0.2226,      0.1782,           0,           0,           0,           0,           0,           0,           0,           0]]), 'Confidence', 'Recall']]\n",
       "fitness: 0.5537810019015884\n",
       "keys: ['metrics/precision(B)', 'metrics/recall(B)', 'metrics/mAP50(B)', 'metrics/mAP50-95(B)']\n",
       "maps: array([    0.54001])\n",
       "names: {0: 'maggi'}\n",
       "plot: True\n",
       "results_dict: {'metrics/precision(B)': 0.6169688724194783, 'metrics/recall(B)': 0.7142857142857143, 'metrics/mAP50(B)': 0.6776817849877421, 'metrics/mAP50-95(B)': 0.540014248225349, 'fitness': 0.5537810019015884}\n",
       "save_dir: WindowsPath('runs/detect/train6')\n",
       "speed: {'preprocess': 1.0013182957967122, 'inference': 93.62681706746419, 'loss': 0.0, 'postprocess': 10.518034299214682}\n",
       "task: 'detect'"
      ]
     },
     "execution_count": 8,
     "metadata": {},
     "output_type": "execute_result"
    }
   ],
   "source": [
    "from ultralytics import YOLO\n",
    "\n",
    "model = YOLO('yolov8n.pt')\n",
    "\n",
    "# Run a short test training\n",
    "model.train(data='dataset.yaml', epochs=72, imgsz=640, batch=8, device='cpu')\n"
   ]
  },
  {
   "cell_type": "code",
   "execution_count": 24,
   "metadata": {},
   "outputs": [
    {
     "name": "stdout",
     "output_type": "stream",
     "text": [
      "\n",
      "image 1/1 c:\\Users\\devdr\\OneDrive\\Desktop\\Yolov8\\image1.jpg: 640x384 4 maggis, 92.5ms\n",
      "Speed: 3.0ms preprocess, 92.5ms inference, 1.0ms postprocess per image at shape (1, 3, 640, 384)\n"
     ]
    }
   ],
   "source": [
    "from ultralytics import YOLO\n",
    "\n",
    "# Load the best model\n",
    "model = YOLO('runs/detect/train6/weights/best.pt')\n",
    "\n",
    "# Perform inference on a new image\n",
    "results = model('image1.jpg', conf=0.25)  # You can adjust the confidence threshold\n",
    "\n",
    "# Display the result\n",
    "if isinstance(results, list) and len(results) > 0:\n",
    "    results[0].show()  # Show the first image's results\n"
   ]
  },
  {
   "cell_type": "code",
   "execution_count": null,
   "metadata": {},
   "outputs": [],
   "source": []
  }
 ],
 "metadata": {
  "kernelspec": {
   "display_name": "Python 3",
   "language": "python",
   "name": "python3"
  },
  "language_info": {
   "codemirror_mode": {
    "name": "ipython",
    "version": 3
   },
   "file_extension": ".py",
   "mimetype": "text/x-python",
   "name": "python",
   "nbconvert_exporter": "python",
   "pygments_lexer": "ipython3",
   "version": "3.12.1"
  }
 },
 "nbformat": 4,
 "nbformat_minor": 2
}
